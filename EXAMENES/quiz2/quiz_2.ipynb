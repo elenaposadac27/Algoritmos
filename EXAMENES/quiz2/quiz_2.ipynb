{
  "nbformat": 4,
  "nbformat_minor": 0,
  "metadata": {
    "colab": {
      "name": "quiz_2.ipynb",
      "provenance": [],
      "collapsed_sections": [],
      "toc_visible": true
    },
    "kernelspec": {
      "name": "python3",
      "display_name": "Python 3"
    }
  },
  "cells": [
    {
      "cell_type": "markdown",
      "metadata": {
        "id": "ijNaWmHg8aPs",
        "colab_type": "text"
      },
      "source": [
        "#PUNTO 1"
      ]
    },
    {
      "cell_type": "code",
      "metadata": {
        "id": "KNDHOF-27qFr",
        "colab_type": "code",
        "colab": {}
      },
      "source": [
        "import random  as r\n",
        "import time\n",
        "\n",
        "def crear_lista():\n",
        "    size_list= int (input(\"ingrese el tamaño de la lista : \"))\n",
        "    lista  = [r.randint(300,1230) for i in range (size_list)]\n",
        "\n",
        "    return lista\n",
        "\n",
        "def ordenamiento_burbuja(lista):\n",
        "    size = len (lista)\n",
        "    for i in range (size):\n",
        "        for j in range (0, size-i -1):\n",
        "            if lista [j]> lista[j+1]:\n",
        "                lista[j],lista[j+1] = lista[j+1],lista[j]\n",
        "    return lista\n",
        "\n",
        "def ordenamiento_por_insercion(lista):\n",
        "\n",
        "    for indice in range(1, len(lista)):\n",
        "        valor_actual = lista[indice]\n",
        "        posicion_actual = indice\n",
        "        while posicion_actual > 0 and lista[posicion_actual - 1] > valor_actual:\n",
        "            lista[posicion_actual] = lista[posicion_actual - 1]\n",
        "            posicion_actual -= 1\n",
        "        lista[posicion_actual] = valor_actual\n",
        "    return lista\n",
        "\n",
        "def ord_por_mezcla(lista):\n",
        "    if len(lista) > 1:\n",
        "        medio = len(lista) // 2\n",
        "        izquierda = lista[:medio]\n",
        "        derecha = lista[medio:]\n",
        "\n",
        "        izquierda = ord_por_mezcla(izquierda)\n",
        "        derecha = ord_por_mezcla(derecha)\n",
        "\n",
        "        i = 0\n",
        "        j = 0\n",
        "\n",
        "        k = 0\n",
        "\n",
        "        while i< len(izquierda) and j < len(derecha): \n",
        "            if izquierda[i] < derecha[j]:\n",
        "                lista[k] = izquierda[i]\n",
        "                i += 1\n",
        "            else:\n",
        "                lista[k] = derecha[j]\n",
        "                j += 1\n",
        "            k+= 1\n",
        "        while i < len(izquierda):\n",
        "            lista[k] = izquierda[i]\n",
        "            i+=1\n",
        "            k += 1\n",
        "        while j < len(derecha):\n",
        "            lista[k] = derecha[j]\n",
        "            j += 1\n",
        "            k += 1\n",
        "        \n",
        "\n",
        "    return lista"
      ],
      "execution_count": 1,
      "outputs": []
    },
    {
      "cell_type": "code",
      "metadata": {
        "id": "YAIZl4s077_G",
        "colab_type": "code",
        "colab": {
          "base_uri": "https://localhost:8080/",
          "height": 51
        },
        "outputId": "353de9f5-c040-4d6c-d183-e4f8ceaabdb4",
        "tags": []
      },
      "source": [
        "lista = crear_lista()\n",
        "print(lista)"
      ],
      "execution_count": 2,
      "outputs": [
        {
          "output_type": "stream",
          "name": "stdout",
          "text": "[554, 1141, 474, 315, 997, 639, 1032, 789, 652, 370, 458, 722, 1105, 741, 563, 1107, 712, 792, 548, 401, 426, 357, 434, 368, 820, 363, 691, 957, 844, 750, 1110, 607, 897, 1172, 946, 942, 608, 413, 913, 300, 1135, 499, 303, 1129, 887, 1123, 552, 632, 1048, 836, 1122, 733, 856, 815, 747, 563, 751, 358, 658, 1005, 668, 675, 820, 356, 874, 693, 1097, 1051, 435, 904, 1140, 654, 1121, 799, 617, 1065, 342, 1103, 802, 1038, 1044, 426, 885, 878, 852, 610, 990, 564, 454, 1198, 381, 460, 551, 466, 797, 893, 891, 1229, 1138, 849]\n"
        }
      ]
    },
    {
      "cell_type": "code",
      "metadata": {
        "id": "bUvLsScY8JUz",
        "colab_type": "code",
        "colab": {
          "base_uri": "https://localhost:8080/",
          "height": 51
        },
        "outputId": "e1d80ef6-8541-4dd3-fe53-d4514a86b78a",
        "tags": []
      },
      "source": [
        "inicial_burbuja = time.time()\n",
        "lista_ordenada_burbuja = ordenamiento_burbuja(lista)\n",
        "final_burbuja = time.time()\n",
        "print(lista_ordenada_burbuja)\n",
        "print(\"Tiempo ordenamianto burbuja:\", final_burbuja-inicial_burbuja)"
      ],
      "execution_count": 3,
      "outputs": [
        {
          "output_type": "stream",
          "name": "stdout",
          "text": "[300, 303, 315, 342, 356, 357, 358, 363, 368, 370, 381, 401, 413, 426, 426, 434, 435, 454, 458, 460, 466, 474, 499, 548, 551, 552, 554, 563, 563, 564, 607, 608, 610, 617, 632, 639, 652, 654, 658, 668, 675, 691, 693, 712, 722, 733, 741, 747, 750, 751, 789, 792, 797, 799, 802, 815, 820, 820, 836, 844, 849, 852, 856, 874, 878, 885, 887, 891, 893, 897, 904, 913, 942, 946, 957, 990, 997, 1005, 1032, 1038, 1044, 1048, 1051, 1065, 1097, 1103, 1105, 1107, 1110, 1121, 1122, 1123, 1129, 1135, 1138, 1140, 1141, 1172, 1198, 1229]\nTiempo ordenamianto burbuja: 0.0030040740966796875\n"
        }
      ]
    },
    {
      "cell_type": "code",
      "metadata": {
        "id": "K4AWGHeY8Nh0",
        "colab_type": "code",
        "colab": {
          "base_uri": "https://localhost:8080/",
          "height": 51
        },
        "outputId": "99e09db1-8703-4391-9f0f-9c8083af7860",
        "tags": []
      },
      "source": [
        "inicial_insercion = time.time()\n",
        "lista_ordenada_insercion = ordenamiento_por_insercion(lista)\n",
        "final_insercion = time.time()\n",
        "print(lista_ordenada_insercion)\n",
        "print(\"Tiempo ordenamiento por inserción:\", final_insercion-inicial_insercion)"
      ],
      "execution_count": 4,
      "outputs": [
        {
          "output_type": "stream",
          "name": "stdout",
          "text": "[300, 303, 315, 342, 356, 357, 358, 363, 368, 370, 381, 401, 413, 426, 426, 434, 435, 454, 458, 460, 466, 474, 499, 548, 551, 552, 554, 563, 563, 564, 607, 608, 610, 617, 632, 639, 652, 654, 658, 668, 675, 691, 693, 712, 722, 733, 741, 747, 750, 751, 789, 792, 797, 799, 802, 815, 820, 820, 836, 844, 849, 852, 856, 874, 878, 885, 887, 891, 893, 897, 904, 913, 942, 946, 957, 990, 997, 1005, 1032, 1038, 1044, 1048, 1051, 1065, 1097, 1103, 1105, 1107, 1110, 1121, 1122, 1123, 1129, 1135, 1138, 1140, 1141, 1172, 1198, 1229]\nTiempo ordenamiento por inserción: 0.0\n"
        }
      ]
    },
    {
      "cell_type": "code",
      "metadata": {
        "id": "bXN0avye8S68",
        "colab_type": "code",
        "colab": {
          "base_uri": "https://localhost:8080/",
          "height": 51
        },
        "outputId": "7bce1f65-8a9e-4939-da84-ea8199de46bb",
        "tags": []
      },
      "source": [
        "inicial_mezcla = time.time()\n",
        "lista_ordenada_mezcla = ord_por_mezcla(lista)\n",
        "final_mezcla = time.time()\n",
        "print(lista_ordenada_mezcla)\n",
        "print(\"Tiempo ordenamiento por mezcla:\", final_mezcla-inicial_mezcla)"
      ],
      "execution_count": 5,
      "outputs": [
        {
          "output_type": "stream",
          "name": "stdout",
          "text": "[300, 303, 315, 342, 356, 357, 358, 363, 368, 370, 381, 401, 413, 426, 426, 434, 435, 454, 458, 460, 466, 474, 499, 548, 551, 552, 554, 563, 563, 564, 607, 608, 610, 617, 632, 639, 652, 654, 658, 668, 675, 691, 693, 712, 722, 733, 741, 747, 750, 751, 789, 792, 797, 799, 802, 815, 820, 820, 836, 844, 849, 852, 856, 874, 878, 885, 887, 891, 893, 897, 904, 913, 942, 946, 957, 990, 997, 1005, 1032, 1038, 1044, 1048, 1051, 1065, 1097, 1103, 1105, 1107, 1110, 1121, 1122, 1123, 1129, 1135, 1138, 1140, 1141, 1172, 1198, 1229]\nTiempo ordenamiento por mezcla: 0.0\n"
        }
      ]
    },
    {
      "cell_type": "markdown",
      "metadata": {
        "id": "O5s8rLkZ8j8z",
        "colab_type": "text"
      },
      "source": [
        "#PUNTO 2"
      ]
    },
    {
      "cell_type": "code",
      "metadata": {
        "id": "kDQjm6Ex8pC7",
        "colab_type": "code",
        "colab": {
          "base_uri": "https://localhost:8080/",
          "height": 34
        },
        "outputId": "95125e25-d5ee-4418-d8cf-d00cefd2aaf4",
        "tags": []
      },
      "source": [
        "import requests\n",
        "import bs4\n",
        "\n",
        "url = \"https://noticias.caracoltv.com/\"\n",
        "\n",
        "response = requests.get(url)\n",
        "print(response)"
      ],
      "execution_count": 6,
      "outputs": [
        {
          "output_type": "stream",
          "name": "stdout",
          "text": "<Response [200]>\n"
        }
      ]
    },
    {
      "cell_type": "code",
      "metadata": {
        "id": "2z_v3q1Y867b",
        "colab_type": "code",
        "colab": {
          "base_uri": "https://localhost:8080/",
          "height": 1000
        },
        "outputId": "3e630db0-20cb-4a18-ba93-2a3cb945b4f4",
        "tags": [
          "outputPrepend"
        ]
      },
      "source": [
        "completo = bs4.BeautifulSoup(response.text,'html.parser')\n",
        "noticias = completo.select(\".PromoB a\")\n",
        "print (noticias)"
      ],
      "execution_count": 7,
      "outputs": [
        {
          "output_type": "stream",
          "name": "stdout",
          "text": "ps://noticias.caracoltv.com/salud\">Salud</a>, <a class=\"Link\" data-cms-ai=\"0\" href=\"https://noticias.caracoltv.com/salud/que-significa-el-rastreo-de-contactos-de-covid-19-y-por-que-es-tan-importante\">¿Qué significa el rastreo de contactos de COVID-19 y por qué es tan importante? </a>, <a class=\"Link\" data-cms-ai=\"0\" href=\"https://noticias.caracoltv.com/salud/que-significa-el-rastreo-de-contactos-de-covid-19-y-por-que-es-tan-importante\">Expertos hacen énfasis en que para que las aperturas funcionen y sean sostenibles se necesita un juicioso seguimiento de casos y aislamiento oportuno de sospechosos.  </a>, <a aria-label=\"Natalia París sorprende a sus seguidores al revelar experiencia paranormal\" class=\"Link\" data-cms-ai=\"0\" href=\"https://noticias.caracoltv.com/entretenimiento/natalia-paris-sorprende-a-sus-seguidores-al-revelar-experiencia-paranormal\"><picture>\n<source height=\"209\" srcset=\"https://caracoltv.brightspotcdn.com/dims4/default/758712f/2147483647/strip/true/crop/640x418+0+7/resize/320x209!/format/webp/quality/90/?url=http%3A%2F%2Fcaracol-brightspot.s3.amazonaws.com%2Ffe%2Fcc%2F47b40918406b9fd22924d7d2ab30%2Fnatalia-paris.jpg\" type=\"image/webp\" width=\"320\"/>\n<source height=\"209\" srcset=\"https://caracoltv.brightspotcdn.com/dims4/default/c82ced7/2147483647/strip/true/crop/640x418+0+7/resize/320x209!/quality/90/?url=http%3A%2F%2Fcaracol-brightspot.s3.amazonaws.com%2Ffe%2Fcc%2F47b40918406b9fd22924d7d2ab30%2Fnatalia-paris.jpg\" width=\"320\"/>\n<img alt=\"Natalia París .jpg\" class=\"Image\" height=\"209\" src=\"https://caracoltv.brightspotcdn.com/dims4/default/c82ced7/2147483647/strip/true/crop/640x418+0+7/resize/320x209!/quality/90/?url=http%3A%2F%2Fcaracol-brightspot.s3.amazonaws.com%2Ffe%2Fcc%2F47b40918406b9fd22924d7d2ab30%2Fnatalia-paris.jpg\" width=\"320\"/>\n</picture>\n</a>, <a class=\"Link\" data-cms-ai=\"0\" href=\"https://noticias.caracoltv.com/entretenimiento\">Entretenimiento</a>, <a class=\"Link\" data-cms-ai=\"0\" href=\"https://noticias.caracoltv.com/entretenimiento/natalia-paris-sorprende-a-sus-seguidores-al-revelar-experiencia-paranormal\">Natalia París sorprende a sus seguidores al revelar experiencia paranormal</a>, <a class=\"Link\" data-cms-ai=\"0\" href=\"https://noticias.caracoltv.com/entretenimiento/natalia-paris-sorprende-a-sus-seguidores-al-revelar-experiencia-paranormal\">Lo hizo a través de un cuestionario que respondió en redes sociales. La modelo habló sobre sus creencias en temas como la reencarnación y hasta extraterrestres.</a>, <a aria-label=\"“Una experiencia maravillosa”: Fernando Trueba sobre hacer ‘El olvido que seremos’ en Colombia\" class=\"Link\" data-cms-ai=\"0\" href=\"https://noticias.caracoltv.com/entretenimiento/una-experiencia-maravillosa-fernando-trueba-sobre-hacer-el-olvido-que-seremos-en-colombia\"><picture>\n<source height=\"209\" srcset=\"https://caracoltv.brightspotcdn.com/dims4/default/fc1bd9d/2147483647/strip/true/crop/661x432+19+0/resize/320x209!/format/webp/quality/90/?url=http%3A%2F%2Fcaracol-brightspot.s3.amazonaws.com%2Fba%2F05%2F0a8ecc17491fb03e816ff66d8605%2Fel-olvido-que-seremos.jpg\" type=\"image/webp\" width=\"320\"/>\n<source height=\"209\" srcset=\"https://caracoltv.brightspotcdn.com/dims4/default/4cc1504/2147483647/strip/true/crop/661x432+19+0/resize/320x209!/quality/90/?url=http%3A%2F%2Fcaracol-brightspot.s3.amazonaws.com%2Fba%2F05%2F0a8ecc17491fb03e816ff66d8605%2Fel-olvido-que-seremos.jpg\" width=\"320\"/>\n<img alt=\"el olvido que seremos.jpg\" class=\"Image\" height=\"209\" src=\"https://caracoltv.brightspotcdn.com/dims4/default/4cc1504/2147483647/strip/true/crop/661x432+19+0/resize/320x209!/quality/90/?url=http%3A%2F%2Fcaracol-brightspot.s3.amazonaws.com%2Fba%2F05%2F0a8ecc17491fb03e816ff66d8605%2Fel-olvido-que-seremos.jpg\" width=\"320\"/>\n</picture>\n</a>, <a class=\"Link\" data-cms-ai=\"0\" href=\"https://noticias.caracoltv.com/entretenimiento\">Entretenimiento</a>, <a class=\"Link\" data-cms-ai=\"0\" href=\"https://noticias.caracoltv.com/entretenimiento/una-experiencia-maravillosa-fernando-trueba-sobre-hacer-el-olvido-que-seremos-en-colombia\">“Una experiencia maravillosa”: Fernando Trueba sobre hacer ‘El olvido que seremos’ en Colombia</a>, <a class=\"Link\" data-cms-ai=\"0\" href=\"https://noticias.caracoltv.com/entretenimiento/una-experiencia-maravillosa-fernando-trueba-sobre-hacer-el-olvido-que-seremos-en-colombia\">El director de cine habló con Noticias Caracol del importante legado de Héctor Abad Gómez y lo que representa para su carrera competir en los premios Goya.</a>, <a aria-label=\"“Te extraño mucho, papá”: tierna dedicatoria de La Chilindrina por cumpleaños de Don Ramón\" class=\"Link\" data-cms-ai=\"0\" href=\"https://noticias.caracoltv.com/entretenimiento/dedicatoria-de-la-chilindrina-por-cumpleanos-de-don-ramon\"><picture>\n<source height=\"209\" srcset=\"https://caracoltv.brightspotcdn.com/dims4/default/90b590f/2147483647/strip/true/crop/980x640+0+0/resize/320x209!/format/webp/quality/90/?url=http%3A%2F%2Fcaracol-brightspot.s3.amazonaws.com%2F4c%2F98%2Fdd2a9b644a4eb16a1bfc31849973%2Fla-chilindrina.jpg\" type=\"image/webp\" width=\"320\"/>\n<source height=\"209\" srcset=\"https://caracoltv.brightspotcdn.com/dims4/default/833a2c7/2147483647/strip/true/crop/980x640+0+0/resize/320x209!/quality/90/?url=http%3A%2F%2Fcaracol-brightspot.s3.amazonaws.com%2F4c%2F98%2Fdd2a9b644a4eb16a1bfc31849973%2Fla-chilindrina.jpg\" width=\"320\"/>\n<img alt=\"La Chilindrina\" class=\"Image\" height=\"209\" src=\"https://caracoltv.brightspotcdn.com/dims4/default/833a2c7/2147483647/strip/true/crop/980x640+0+0/resize/320x209!/quality/90/?url=http%3A%2F%2Fcaracol-brightspot.s3.amazonaws.com%2F4c%2F98%2Fdd2a9b644a4eb16a1bfc31849973%2Fla-chilindrina.jpg\" width=\"320\"/>\n</picture>\n</a>, <a class=\"Link\" data-cms-ai=\"0\" href=\"https://noticias.caracoltv.com/entretenimiento\">Entretenimiento</a>, <a class=\"Link\" data-cms-ai=\"0\" href=\"https://noticias.caracoltv.com/entretenimiento/dedicatoria-de-la-chilindrina-por-cumpleanos-de-don-ramon\">“Te extraño mucho, papá”: tierna dedicatoria de La Chilindrina por cumpleaños de Don Ramón</a>, <a class=\"Link\" data-cms-ai=\"0\" href=\"https://noticias.caracoltv.com/entretenimiento/dedicatoria-de-la-chilindrina-por-cumpleanos-de-don-ramon\">Un día como hoy en 1923 nació en México el actor Ramón Valdés, quien en la serie de El Chavo del 8 daría vida al recordado personaje. Así le rindió homenaje su ‘hija’.</a>, <a aria-label=\"“Salir de la pobreza ni siquiera es tener dinero”: vea el contundente mensaje que envió La Liendra\" class=\"Link\" data-cms-ai=\"0\" href=\"https://noticias.caracoltv.com/entretenimiento/salir-de-la-pobreza-ni-siquiera-es-tener-dinero-vea-el-contundente-mensaje-que-envio-la-liendra\"><picture>\n<source height=\"209\" srcset=\"https://caracoltv.brightspotcdn.com/dims4/default/37241ca/2147483647/strip/true/crop/750x490+0+0/resize/320x209!/format/webp/quality/90/?url=http%3A%2F%2Fcaracol-brightspot.s3.amazonaws.com%2Feb%2F91%2Fbdadb1d1e3c00751da4fa24ca881%2Fthumb-5f5003afc21eec083ab321af-1599082687478.jpg\" type=\"image/webp\" width=\"320\"/>\n<source height=\"209\" srcset=\"https://caracoltv.brightspotcdn.com/dims4/default/d1272a1/2147483647/strip/true/crop/750x490+0+0/resize/320x209!/quality/90/?url=http%3A%2F%2Fcaracol-brightspot.s3.amazonaws.com%2Feb%2F91%2Fbdadb1d1e3c00751da4fa24ca881%2Fthumb-5f5003afc21eec083ab321af-1599082687478.jpg\" width=\"320\"/>\n<img alt=\"Thumbnail\" class=\"Image\" height=\"209\" src=\"https://caracoltv.brightspotcdn.com/dims4/default/d1272a1/2147483647/strip/true/crop/750x490+0+0/resize/320x209!/quality/90/?url=http%3A%2F%2Fcaracol-brightspot.s3.amazonaws.com%2Feb%2F91%2Fbdadb1d1e3c00751da4fa24ca881%2Fthumb-5f5003afc21eec083ab321af-1599082687478.jpg\" width=\"320\"/>\n</picture>\n</a>, <a class=\"Link\" data-cms-ai=\"0\" href=\"https://noticias.caracoltv.com/entretenimiento\">Entretenimiento</a>, <a class=\"Link\" data-cms-ai=\"0\" href=\"https://noticias.caracoltv.com/entretenimiento/salir-de-la-pobreza-ni-siquiera-es-tener-dinero-vea-el-contundente-mensaje-que-envio-la-liendra\">“Salir de la pobreza ni siquiera es tener dinero”: vea el contundente mensaje que envió La Liendra</a>, <a class=\"Link\" data-cms-ai=\"0\" href=\"https://noticias.caracoltv.com/entretenimiento/salir-de-la-pobreza-ni-siquiera-es-tener-dinero-vea-el-contundente-mensaje-que-envio-la-liendra\">El influenciador habló luego de su debut como cantante. Justamente, lanzó un tema en el que cuenta como pasó de no tener nada a tenerlo todo.</a>, <a aria-label=\"El DJ Erick Morillo, muerto en extrañas circunstancias, enfrentaba un proceso judicial hace un mes\" class=\"Link\" data-cms-ai=\"0\" href=\"https://noticias.caracoltv.com/entretenimiento/el-dj-erick-morillo-muerto-en-extranas-circunstancias-enfrentaba-un-proceso-judicial-hace-un-mes\"><picture>\n<source height=\"209\" srcset=\"https://caracoltv.brightspotcdn.com/dims4/default/f16392b/2147483647/strip/true/crop/1210x790+0+0/resize/320x209!/format/webp/quality/90/?url=http%3A%2F%2Fcaracol-brightspot.s3.amazonaws.com%2F8d%2Ff5%2F0519af3dd5fef1e1a7fc3c47dfb4%2Fthumb-5f500033546b6807cc6ffe8e-1599082232015.jpg\" type=\"image/webp\" width=\"320\"/>\n<source height=\"209\" srcset=\"https://caracoltv.brightspotcdn.com/dims4/default/345f93a/2147483647/strip/true/crop/1210x790+0+0/resize/320x209!/quality/90/?url=http%3A%2F%2Fcaracol-brightspot.s3.amazonaws.com%2F8d%2Ff5%2F0519af3dd5fef1e1a7fc3c47dfb4%2Fthumb-5f500033546b6807cc6ffe8e-1599082232015.jpg\" width=\"320\"/>\n<img alt=\"Thumbnail\" class=\"Image\" height=\"209\" src=\"https://caracoltv.brightspotcdn.com/dims4/default/345f93a/2147483647/strip/true/crop/1210x790+0+0/resize/320x209!/quality/90/?url=http%3A%2F%2Fcaracol-brightspot.s3.amazonaws.com%2F8d%2Ff5%2F0519af3dd5fef1e1a7fc3c47dfb4%2Fthumb-5f500033546b6807cc6ffe8e-1599082232015.jpg\" width=\"320\"/>\n</picture>\n</a>, <a class=\"Link\" data-cms-ai=\"0\" href=\"https://noticias.caracoltv.com/entretenimiento\">Entretenimiento</a>, <a class=\"Link\" data-cms-ai=\"0\" href=\"https://noticias.caracoltv.com/entretenimiento/el-dj-erick-morillo-muerto-en-extranas-circunstancias-enfrentaba-un-proceso-judicial-hace-un-mes\">El DJ Erick Morillo, muerto en extrañas circunstancias, enfrentaba un proceso judicial hace un mes</a>, <a class=\"Link\" data-cms-ai=\"0\" href=\"https://noticias.caracoltv.com/entretenimiento/el-dj-erick-morillo-muerto-en-extranas-circunstancias-enfrentaba-un-proceso-judicial-hace-un-mes\">El colombo-estadounidense saltó a la fama con el tema ‘I like to move it’ en 1993. Aunque nació en Nueva York, vivió casi toda su infancia en Cartagena. </a>, <a aria-label=\"BTS habla de su exitosa canción ‘Dynamite’ y envía un mensaje a los 'Army' de todo el mundo\" class=\"Link\" data-cms-ai=\"0\" href=\"https://noticias.caracoltv.com/entretenimiento/bts-habla-de-su-exitosa-cancion-dynamite-y-envia-un-mensaje-a-los-army-de-todo-el-mundo\"><picture>\n<source height=\"209\" srcset=\"https://caracoltv.brightspotcdn.com/dims4/default/6200c54/2147483647/strip/true/crop/640x418+0+9/resize/320x209!/format/webp/quality/90/?url=http%3A%2F%2Fcaracol-brightspot.s3.amazonaws.com%2F52%2F14%2Fc1652377fd8873fae8d842edde42%2Fthumb-5f500099546b6807cc6ffe9b-1599080576857.jpg\" type=\"image/webp\" width=\"320\"/>\n<source height=\"209\" srcset=\"https://caracoltv.brightspotcdn.com/dims4/default/f236891/2147483647/strip/true/crop/640x418+0+9/resize/320x209!/quality/90/?url=http%3A%2F%2Fcaracol-brightspot.s3.amazonaws.com%2F52%2F14%2Fc1652377fd8873fae8d842edde42%2Fthumb-5f500099546b6807cc6ffe9b-1599080576857.jpg\" width=\"320\"/>\n<img alt=\"Thumbnail\" class=\"Image\" height=\"209\" src=\"https://caracoltv.brightspotcdn.com/dims4/default/f236891/2147483647/strip/true/crop/640x418+0+9/resize/320x209!/quality/90/?url=http%3A%2F%2Fcaracol-brightspot.s3.amazonaws.com%2F52%2F14%2Fc1652377fd8873fae8d842edde42%2Fthumb-5f500099546b6807cc6ffe9b-1599080576857.jpg\" width=\"320\"/>\n</picture>\n</a>, <a class=\"Link\" data-cms-ai=\"0\" href=\"https://noticias.caracoltv.com/entretenimiento\">Entretenimiento</a>, <a class=\"Link\" data-cms-ai=\"0\" href=\"https://noticias.caracoltv.com/entretenimiento/bts-habla-de-su-exitosa-cancion-dynamite-y-envia-un-mensaje-a-los-army-de-todo-el-mundo\">BTS habla de su exitosa canción ‘Dynamite’ y envía un mensaje a los 'Army' de todo el mundo</a>, <a class=\"Link\" data-cms-ai=\"0\" href=\"https://noticias.caracoltv.com/entretenimiento/bts-habla-de-su-exitosa-cancion-dynamite-y-envia-un-mensaje-a-los-army-de-todo-el-mundo\">La agrupación surcoreana atrapa a una generación con su ritmo de K-pop. En solo 24 horas logró 101,1 millones de reproducciones en YouTube y ya es número 1 en Billboard.</a>, <a aria-label=\"Sara Uribe enseña el tatuaje que se hizo en pareja \" class=\"Link\" data-cms-ai=\"0\" href=\"https://noticias.caracoltv.com/entretenimiento/sara-uribe-ensena-el-tatuaje-que-se-hizo-en-pareja\"><picture>\n<source height=\"209\" srcset=\"https://caracoltv.brightspotcdn.com/dims4/default/a1e7416/2147483647/strip/true/crop/639x417+0+0/resize/320x209!/format/webp/quality/90/?url=http%3A%2F%2Fcaracol-brightspot.s3.amazonaws.com%2F37%2F09%2F0bf1917b48649c1c9b41fd15c81b%2Fsara-uribe.jpg\" type=\"image/webp\" width=\"320\"/>\n<source height=\"209\" srcset=\"https://caracoltv.brightspotcdn.com/dims4/default/62b501a/2147483647/strip/true/crop/639x417+0+0/resize/320x209!/quality/90/?url=http%3A%2F%2Fcaracol-brightspot.s3.amazonaws.com%2F37%2F09%2F0bf1917b48649c1c9b41fd15c81b%2Fsara-uribe.jpg\" width=\"320\"/>\n<img alt=\"Sara Uribe.jpg\" class=\"Image\" height=\"209\" src=\"https://caracoltv.brightspotcdn.com/dims4/default/62b501a/2147483647/strip/true/crop/639x417+0+0/resize/320x209!/quality/90/?url=http%3A%2F%2Fcaracol-brightspot.s3.amazonaws.com%2F37%2F09%2F0bf1917b48649c1c9b41fd15c81b%2Fsara-uribe.jpg\" width=\"320\"/>\n</picture>\n</a>, <a class=\"Link\" data-cms-ai=\"0\" href=\"https://noticias.caracoltv.com/entretenimiento\">Entretenimiento</a>, <a class=\"Link\" data-cms-ai=\"0\" href=\"https://noticias.caracoltv.com/entretenimiento/sara-uribe-ensena-el-tatuaje-que-se-hizo-en-pareja\">Sara Uribe enseña el tatuaje que se hizo en pareja </a>, <a class=\"Link\" data-cms-ai=\"0\" href=\"https://noticias.caracoltv.com/entretenimiento/sara-uribe-ensena-el-tatuaje-que-se-hizo-en-pareja\">La empresaria siempre ha expresado que es una persona muy religiosa y decidió inmortalizar su fe con un diseño en la mano.</a>, <a aria-label=\"Elton John, Billie Eilish y Ozzy Osbourne donaron valiosos objetos para una subasta benéfica  \" class=\"Link\" data-cms-ai=\"0\" href=\"https://noticias.caracoltv.com/entretenimiento/elton-john-billie-eilish-y-ozzy-osbourne-donaron-valiosos-objetos-para-una-subasta-benefica\"><picture>\n<source height=\"209\" srcset=\"https://caracoltv.brightspotcdn.com/dims4/default/f63e183/2147483647/strip/true/crop/880x575+0+6/resize/320x209!/format/webp/quality/90/?url=http%3A%2F%2Fcaracol-brightspot.s3.amazonaws.com%2F78%2Fd6%2F41f93f343dedfa141724e5db0f6c%2Fthumb-5f4fa120d20137075a34bf3d-1599059692752.jpg\" type=\"image/webp\" width=\"320\"/>\n<source height=\"209\" srcset=\"https://caracoltv.brightspotcdn.com/dims4/default/4df8ebd/2147483647/strip/true/crop/880x575+0+6/resize/320x209!/quality/90/?url=http%3A%2F%2Fcaracol-brightspot.s3.amazonaws.com%2F78%2Fd6%2F41f93f343dedfa141724e5db0f6c%2Fthumb-5f4fa120d20137075a34bf3d-1599059692752.jpg\" width=\"320\"/>\n<img alt=\"Thumbnail\" class=\"Image\" height=\"209\" src=\"https://caracoltv.brightspotcdn.com/dims4/default/4df8ebd/2147483647/strip/true/crop/880x575+0+6/resize/320x209!/quality/90/?url=http%3A%2F%2Fcaracol-brightspot.s3.amazonaws.com%2F78%2Fd6%2F41f93f343dedfa141724e5db0f6c%2Fthumb-5f4fa120d20137075a34bf3d-1599059692752.jpg\" width=\"320\"/>\n</picture>\n</a>, <a class=\"Link\" data-cms-ai=\"0\" href=\"https://noticias.caracoltv.com/entretenimiento\">Entretenimiento</a>, <a class=\"Link\" data-cms-ai=\"0\" href=\"https://noticias.caracoltv.com/entretenimiento/elton-john-billie-eilish-y-ozzy-osbourne-donaron-valiosos-objetos-para-una-subasta-benefica\">Elton John, Billie Eilish y Ozzy Osbourne donaron valiosos objetos para una subasta benéfica  </a>, <a class=\"Link\" data-cms-ai=\"0\" href=\"https://noticias.caracoltv.com/entretenimiento/elton-john-billie-eilish-y-ozzy-osbourne-donaron-valiosos-objetos-para-una-subasta-benefica\">El objetivo principal de esta iniciativa es recaudar fondos para ayudar a los músicos que no la pasan nada bien durante la pandemia. </a>, <a aria-label=\"Jennifer Lopez liderará campaña para que las mujeres latinas voten en elecciones de EE. UU.\" class=\"Link\" data-cms-ai=\"0\" href=\"https://noticias.caracoltv.com/entretenimiento/jennifer-lopez-liderara-campana-para-que-las-mujeres-latinas-voten-en-elecciones-de-ee-uu\"><picture>\n<source height=\"209\" srcset=\"https://caracoltv.brightspotcdn.com/dims4/default/c388ac2/2147483647/strip/true/crop/1200x784+0+0/resize/320x209!/format/webp/quality/90/?url=http%3A%2F%2Fcaracol-brightspot.s3.amazonaws.com%2F38%2F60%2F944bb18562edacc231a24205c7f0%2Fthumb-5f4f9b466464d953b7dd2df0-1599058082347.jpg\" type=\"image/webp\" width=\"320\"/>\n<source height=\"209\" srcset=\"https://caracoltv.brightspotcdn.com/dims4/default/cf5b9a1/2147483647/strip/true/crop/1200x784+0+0/resize/320x209!/quality/90/?url=http%3A%2F%2Fcaracol-brightspot.s3.amazonaws.com%2F38%2F60%2F944bb18562edacc231a24205c7f0%2Fthumb-5f4f9b466464d953b7dd2df0-1599058082347.jpg\" width=\"320\"/>\n<img alt=\"Thumbnail\" class=\"Image\" height=\"209\" src=\"https://caracoltv.brightspotcdn.com/dims4/default/cf5b9a1/2147483647/strip/true/crop/1200x784+0+0/resize/320x209!/quality/90/?url=http%3A%2F%2Fcaracol-brightspot.s3.amazonaws.com%2F38%2F60%2F944bb18562edacc231a24205c7f0%2Fthumb-5f4f9b466464d953b7dd2df0-1599058082347.jpg\" width=\"320\"/>\n</picture>\n</a>, <a class=\"Link\" data-cms-ai=\"0\" href=\"https://noticias.caracoltv.com/entretenimiento\">Entretenimiento</a>, <a class=\"Link\" data-cms-ai=\"0\" href=\"https://noticias.caracoltv.com/entretenimiento/jennifer-lopez-liderara-campana-para-que-las-mujeres-latinas-voten-en-elecciones-de-ee-uu\">Jennifer Lopez liderará campaña para que las mujeres latinas voten en elecciones de EE. UU.</a>, <a class=\"Link\" data-cms-ai=\"0\" href=\"https://noticias.caracoltv.com/entretenimiento/jennifer-lopez-liderara-campana-para-que-las-mujeres-latinas-voten-en-elecciones-de-ee-uu\">Les pide que participen en la jornada electoral pensando, principalmente, en el cambio climático. </a>, <a aria-label=\"Danna García y las secuelas del COVID-19: “Es una sensación de que vas a atravesar el piso”\" class=\"Link\" data-cms-ai=\"0\" href=\"https://noticias.caracoltv.com/antioquia/danna-garcia-y-las-secuelas-del-covid-19-es-una-sensacion-de-que-vas-a-atravesar-el-piso\"><picture>\n<source height=\"209\" srcset=\"https://caracoltv.brightspotcdn.com/dims4/default/cc23cc3/2147483647/strip/true/crop/686x448+43+0/resize/320x209!/format/webp/quality/90/?url=http%3A%2F%2Fcaracol-brightspot.s3.amazonaws.com%2Fa3%2Fa3%2F2e2f8a8641e7878652f3339f8afa%2Fdanna-garcia.jpg\" type=\"image/webp\" width=\"320\"/>\n<source height=\"209\" srcset=\"https://caracoltv.brightspotcdn.com/dims4/default/0a99951/2147483647/strip/true/crop/686x448+43+0/resize/320x209!/quality/90/?url=http%3A%2F%2Fcaracol-brightspot.s3.amazonaws.com%2Fa3%2Fa3%2F2e2f8a8641e7878652f3339f8afa%2Fdanna-garcia.jpg\" width=\"320\"/>\n<img alt=\"danna garcia.jpg\" class=\"Image\" height=\"209\" src=\"https://caracoltv.brightspotcdn.com/dims4/default/0a99951/2147483647/strip/true/crop/686x448+43+0/resize/320x209!/quality/90/?url=http%3A%2F%2Fcaracol-brightspot.s3.amazonaws.com%2Fa3%2Fa3%2F2e2f8a8641e7878652f3339f8afa%2Fdanna-garcia.jpg\" width=\"320\"/>\n</picture>\n</a>, <a class=\"Link\" data-cms-ai=\"0\" href=\"https://noticias.caracoltv.com/antioquia\">Antioquia</a>, <a class=\"Link\" data-cms-ai=\"0\" href=\"https://noticias.caracoltv.com/antioquia/danna-garcia-y-las-secuelas-del-covid-19-es-una-sensacion-de-que-vas-a-atravesar-el-piso\">Danna García y las secuelas del COVID-19: “Es una sensación de que vas a atravesar el piso”</a>, <a class=\"Link\" data-cms-ai=\"0\" href=\"https://noticias.caracoltv.com/antioquia/danna-garcia-y-las-secuelas-del-covid-19-es-una-sensacion-de-que-vas-a-atravesar-el-piso\">Aunque está feliz por el éxito que está teniendo Pasión de Gavilanes, manifestó que hay duros efectos secundarios del coronavirus de los que no se habla.</a>]\n"
        }
      ]
    },
    {
      "cell_type": "code",
      "metadata": {
        "id": "ouVrswyM95sM",
        "colab_type": "code",
        "colab": {
          "base_uri": "https://localhost:8080/",
          "height": 71
        },
        "outputId": "9ffcc9b1-3cc5-471f-caf7-36896910feda",
        "tags": [
          "outputPrepend"
        ]
      },
      "source": [
        "titulos =[]\n",
        "links = []\n",
        "for noticia in noticias:\n",
        "  titulos.append(noticia.text)\n",
        "  links.append(noticia['href'])\n",
        "print (titulos)\n",
        "print (links)\n",
        "dictNoticias = {}\n",
        "dictNoticias['Noticias']= titulos\n",
        "dictNoticias['links']= links"
      ],
      "execution_count": 11,
      "outputs": [
        {
          "output_type": "stream",
          "name": "stdout",
          "text": "lismo-egan-bernal-envio-un-mensaje-tras-la-etapa-6-del-tour-de-francia-hay-que-tener-paciencia', 'https://noticias.caracoltv.com/tour-de-francia/ciclismo-egan-bernal-envio-un-mensaje-tras-la-etapa-6-del-tour-de-francia-hay-que-tener-paciencia', 'https://noticias.caracoltv.com/salud/canada-sugiere-saltarse-los-besos-y-usar-tapabocas-durante-el-sexo-en-tiempo-de-coronavirus', 'https://noticias.caracoltv.com/salud', 'https://noticias.caracoltv.com/salud/canada-sugiere-saltarse-los-besos-y-usar-tapabocas-durante-el-sexo-en-tiempo-de-coronavirus', 'https://noticias.caracoltv.com/salud/canada-sugiere-saltarse-los-besos-y-usar-tapabocas-durante-el-sexo-en-tiempo-de-coronavirus', 'https://noticias.caracoltv.com/mundo/india-supero-sus-propias-cifras-record-de-contagios-diarios-con-covid-19', 'https://noticias.caracoltv.com/mundo', 'https://noticias.caracoltv.com/mundo/india-supero-sus-propias-cifras-record-de-contagios-diarios-con-covid-19', 'https://noticias.caracoltv.com/mundo/india-supero-sus-propias-cifras-record-de-contagios-diarios-con-covid-19', 'https://noticias.caracoltv.com/salud/colombia-hara-estudio-para-medir-el-dano-causado-por-el-covid-19', 'https://noticias.caracoltv.com/salud', 'https://noticias.caracoltv.com/salud/colombia-hara-estudio-para-medir-el-dano-causado-por-el-covid-19', 'https://noticias.caracoltv.com/salud/colombia-hara-estudio-para-medir-el-dano-causado-por-el-covid-19', 'https://noticias.caracoltv.com/valle/vuelve-la-rumba-y-cali-lo-sabe-asi-sera-aguaelulo-que-reactiva-este-sector-en-la-ciudad', 'https://noticias.caracoltv.com/valle', 'https://noticias.caracoltv.com/valle/vuelve-la-rumba-y-cali-lo-sabe-asi-sera-aguaelulo-que-reactiva-este-sector-en-la-ciudad', 'https://noticias.caracoltv.com/valle/vuelve-la-rumba-y-cali-lo-sabe-asi-sera-aguaelulo-que-reactiva-este-sector-en-la-ciudad', 'https://noticias.caracoltv.com/salud/el-93-de-proyectos-de-vacunas-no-llegan-a-la-fase-iii-minsalud-pide-optimismo-moderado', 'https://noticias.caracoltv.com/salud', 'https://noticias.caracoltv.com/salud/el-93-de-proyectos-de-vacunas-no-llegan-a-la-fase-iii-minsalud-pide-optimismo-moderado', 'https://noticias.caracoltv.com/salud/el-93-de-proyectos-de-vacunas-no-llegan-a-la-fase-iii-minsalud-pide-optimismo-moderado', 'https://noticias.caracoltv.com/entretenimiento/la-roca-revelo-que-el-y-su-familia-tuvieron-coronavirus', 'https://noticias.caracoltv.com/entretenimiento', 'https://noticias.caracoltv.com/entretenimiento/la-roca-revelo-que-el-y-su-familia-tuvieron-coronavirus', 'https://noticias.caracoltv.com/entretenimiento/la-roca-revelo-que-el-y-su-familia-tuvieron-coronavirus', 'https://noticias.caracoltv.com/salud/vacuna-contra-covid-19-no-estaria-antes-del-primer-semestre-de-2021-minsalud', 'https://noticias.caracoltv.com/salud', 'https://noticias.caracoltv.com/salud/vacuna-contra-covid-19-no-estaria-antes-del-primer-semestre-de-2021-minsalud', 'https://noticias.caracoltv.com/salud/vacuna-contra-covid-19-no-estaria-antes-del-primer-semestre-de-2021-minsalud', 'https://noticias.caracoltv.com/antioquia/mi-bebe-es-muy-pequeno-y-no-le-puedo-faltar-danna-garcia-habla-de-la-muerte-tras-el-covid-19', 'https://noticias.caracoltv.com/antioquia', 'https://noticias.caracoltv.com/antioquia/mi-bebe-es-muy-pequeno-y-no-le-puedo-faltar-danna-garcia-habla-de-la-muerte-tras-el-covid-19', 'https://noticias.caracoltv.com/antioquia/mi-bebe-es-muy-pequeno-y-no-le-puedo-faltar-danna-garcia-habla-de-la-muerte-tras-el-covid-19', 'https://noticias.caracoltv.com/antioquia/preparese-para-ver-mas-gente-en-el-metro-autorizaron-ampliar-su-capacidad-de-ocupacion', 'https://noticias.caracoltv.com/antioquia', 'https://noticias.caracoltv.com/antioquia/preparese-para-ver-mas-gente-en-el-metro-autorizaron-ampliar-su-capacidad-de-ocupacion', 'https://noticias.caracoltv.com/antioquia/preparese-para-ver-mas-gente-en-el-metro-autorizaron-ampliar-su-capacidad-de-ocupacion', 'https://noticias.caracoltv.com/valle/por-una-afeccion-respiratoria-clara-luz-roldan-fue-internada-en-una-clinica-de-cali', 'https://noticias.caracoltv.com/valle', 'https://noticias.caracoltv.com/valle/por-una-afeccion-respiratoria-clara-luz-roldan-fue-internada-en-una-clinica-de-cali', 'https://noticias.caracoltv.com/valle/por-una-afeccion-respiratoria-clara-luz-roldan-fue-internada-en-una-clinica-de-cali', 'https://noticias.caracoltv.com/caribe/heroicos-policias-salvaron-a-mujer-que-estaba-a-punto-de-lanzarse-desde-un-puente-en-magdalena', 'https://noticias.caracoltv.com/caribe', 'https://noticias.caracoltv.com/caribe/heroicos-policias-salvaron-a-mujer-que-estaba-a-punto-de-lanzarse-desde-un-puente-en-magdalena', 'https://noticias.caracoltv.com/caribe/heroicos-policias-salvaron-a-mujer-que-estaba-a-punto-de-lanzarse-desde-un-puente-en-magdalena', 'https://noticias.caracoltv.com/entretenimiento/respuesta-de-shannon-de-lima-a-usuario-que-le-dijo-mantenida-de-james', 'https://noticias.caracoltv.com/entretenimiento', 'https://noticias.caracoltv.com/entretenimiento/respuesta-de-shannon-de-lima-a-usuario-que-le-dijo-mantenida-de-james', 'https://noticias.caracoltv.com/entretenimiento/respuesta-de-shannon-de-lima-a-usuario-que-le-dijo-mantenida-de-james', 'https://noticias.caracoltv.com/valle/madre-del-delito-mujer-que-integraba-banda-criminal-escondia-las-armas-en-el-coche-de-su-hijo', 'https://noticias.caracoltv.com/valle', 'https://noticias.caracoltv.com/valle/madre-del-delito-mujer-que-integraba-banda-criminal-escondia-las-armas-en-el-coche-de-su-hijo', 'https://noticias.caracoltv.com/valle/madre-del-delito-mujer-que-integraba-banda-criminal-escondia-las-armas-en-el-coche-de-su-hijo', 'https://noticias.caracoltv.com/antioquia/ciudadanos-denuncian-calvario-para-poder-sacar-sus-vehiculos-de-los-patios-en-medellin', 'https://noticias.caracoltv.com/antioquia', 'https://noticias.caracoltv.com/antioquia/ciudadanos-denuncian-calvario-para-poder-sacar-sus-vehiculos-de-los-patios-en-medellin', 'https://noticias.caracoltv.com/antioquia/ciudadanos-denuncian-calvario-para-poder-sacar-sus-vehiculos-de-los-patios-en-medellin', 'https://noticias.caracoltv.com/caribe/nino-de-12-anos-sufrio-graves-quemaduras-tras-la-caida-de-un-cable-en-barranquilla', 'https://noticias.caracoltv.com/caribe', 'https://noticias.caracoltv.com/caribe/nino-de-12-anos-sufrio-graves-quemaduras-tras-la-caida-de-un-cable-en-barranquilla', 'https://noticias.caracoltv.com/caribe/nino-de-12-anos-sufrio-graves-quemaduras-tras-la-caida-de-un-cable-en-barranquilla', 'https://noticias.caracoltv.com/valle/carcel-para-una-joven-que-asesino-a-una-mujer-durante-una-rina-entre-pandillas', 'https://noticias.caracoltv.com/valle', 'https://noticias.caracoltv.com/valle/carcel-para-una-joven-que-asesino-a-una-mujer-durante-una-rina-entre-pandillas', 'https://noticias.caracoltv.com/valle/carcel-para-una-joven-que-asesino-a-una-mujer-durante-una-rina-entre-pandillas', 'https://noticias.caracoltv.com/antioquia/rescatan-a-trabajadores-que-habian-caido-a-un-abismo-en-el-tunel-del-toyo', 'https://noticias.caracoltv.com/antioquia', 'https://noticias.caracoltv.com/antioquia/rescatan-a-trabajadores-que-habian-caido-a-un-abismo-en-el-tunel-del-toyo', 'https://noticias.caracoltv.com/antioquia/rescatan-a-trabajadores-que-habian-caido-a-un-abismo-en-el-tunel-del-toyo', 'https://noticias.caracoltv.com/valle/asi-termino-un-hombre-que-retuvo-e-intimido-a-su-companera-sentimental-y-a-sus-4-hijos', 'https://noticias.caracoltv.com/valle', 'https://noticias.caracoltv.com/valle/asi-termino-un-hombre-que-retuvo-e-intimido-a-su-companera-sentimental-y-a-sus-4-hijos', 'https://noticias.caracoltv.com/valle/asi-termino-un-hombre-que-retuvo-e-intimido-a-su-companera-sentimental-y-a-sus-4-hijos', 'https://noticias.caracoltv.com/mundo/encuentran-los-cuerpos-de-5-hermanitos-en-un-apartamento-y-la-mama-seria-la-responsable-del-crimen', 'https://noticias.caracoltv.com/mundo', 'https://noticias.caracoltv.com/mundo/encuentran-los-cuerpos-de-5-hermanitos-en-un-apartamento-y-la-mama-seria-la-responsable-del-crimen', 'https://noticias.caracoltv.com/mundo/encuentran-los-cuerpos-de-5-hermanitos-en-un-apartamento-y-la-mama-seria-la-responsable-del-crimen', 'https://noticias.caracoltv.com/mundo/como-malabarista-de-circo-arriesgo-su-vida-para-robar-cableado-electrico-y-termino-mal', 'https://noticias.caracoltv.com/mundo', 'https://noticias.caracoltv.com/mundo/como-malabarista-de-circo-arriesgo-su-vida-para-robar-cableado-electrico-y-termino-mal', 'https://noticias.caracoltv.com/mundo/como-malabarista-de-circo-arriesgo-su-vida-para-robar-cableado-electrico-y-termino-mal', 'https://noticias.caracoltv.com/mundo/reunion-entre-henrique-capriles-y-el-gobierno-de-maduro-molesto-a-guaido', 'https://noticias.caracoltv.com/mundo', 'https://noticias.caracoltv.com/mundo/reunion-entre-henrique-capriles-y-el-gobierno-de-maduro-molesto-a-guaido', 'https://noticias.caracoltv.com/mundo/reunion-entre-henrique-capriles-y-el-gobierno-de-maduro-molesto-a-guaido', 'https://noticias.caracoltv.com/mundo/prueba-indiscutible-confirman-que-alexei-navalny-duro-critico-de-vladimir-putin-fue-envenenado', 'https://noticias.caracoltv.com/mundo', 'https://noticias.caracoltv.com/mundo/prueba-indiscutible-confirman-que-alexei-navalny-duro-critico-de-vladimir-putin-fue-envenenado', 'https://noticias.caracoltv.com/mundo/prueba-indiscutible-confirman-que-alexei-navalny-duro-critico-de-vladimir-putin-fue-envenenado', 'https://noticias.caracoltv.com/mundo/ee-uu-se-la-juega-por-deportar-a-mancuso-a-colombia-estos-dos-sus-argumentos', 'https://noticias.caracoltv.com/mundo', 'https://noticias.caracoltv.com/mundo/ee-uu-se-la-juega-por-deportar-a-mancuso-a-colombia-estos-dos-sus-argumentos', 'https://noticias.caracoltv.com/mundo/ee-uu-se-la-juega-por-deportar-a-mancuso-a-colombia-estos-dos-sus-argumentos', 'https://noticias.caracoltv.com/mundo/esto-es-hermoso-papa-francisco-se-reencuentra-cara-a-cara-con-fieles-luego-de-6-meses', 'https://noticias.caracoltv.com/mundo', 'https://noticias.caracoltv.com/mundo/esto-es-hermoso-papa-francisco-se-reencuentra-cara-a-cara-con-fieles-luego-de-6-meses', 'https://noticias.caracoltv.com/mundo/esto-es-hermoso-papa-francisco-se-reencuentra-cara-a-cara-con-fieles-luego-de-6-meses', 'https://noticias.caracoltv.com/mundo/muere-joven-embarazada-en-atentado-contra-su-novio-mientras-ambos-dormian', 'https://noticias.caracoltv.com/mundo', 'https://noticias.caracoltv.com/mundo/muere-joven-embarazada-en-atentado-contra-su-novio-mientras-ambos-dormian', 'https://noticias.caracoltv.com/mundo/muere-joven-embarazada-en-atentado-contra-su-novio-mientras-ambos-dormian', 'https://noticias.caracoltv.com/mundo/se-le-dano-la-risa-a-grupo-de-payasos-que-despedia-con-fiesta-a-uno-de-sus-colegas', 'https://noticias.caracoltv.com/mundo', 'https://noticias.caracoltv.com/mundo/se-le-dano-la-risa-a-grupo-de-payasos-que-despedia-con-fiesta-a-uno-de-sus-colegas', 'https://noticias.caracoltv.com/mundo/se-le-dano-la-risa-a-grupo-de-payasos-que-despedia-con-fiesta-a-uno-de-sus-colegas', 'https://noticias.caracoltv.com/mundo/ee-uu-no-participara-en-plataforma-de-la-oms-para-distribuir-la-vacuna-del-coronavirus', 'https://noticias.caracoltv.com/mundo', 'https://noticias.caracoltv.com/mundo/ee-uu-no-participara-en-plataforma-de-la-oms-para-distribuir-la-vacuna-del-coronavirus', 'https://noticias.caracoltv.com/mundo/ee-uu-no-participara-en-plataforma-de-la-oms-para-distribuir-la-vacuna-del-coronavirus', 'https://noticias.caracoltv.com/mundo/muere-otro-hombre-afroamericano-a-manos-de-la-policia-en-ee-uu-denuncian-que-le-dieron-mas-de-20-tiros', 'https://noticias.caracoltv.com/mundo', 'https://noticias.caracoltv.com/mundo/muere-otro-hombre-afroamericano-a-manos-de-la-policia-en-ee-uu-denuncian-que-le-dieron-mas-de-20-tiros', 'https://noticias.caracoltv.com/mundo/muere-otro-hombre-afroamericano-a-manos-de-la-policia-en-ee-uu-denuncian-que-le-dieron-mas-de-20-tiros', 'https://noticias.caracoltv.com/salud/casos-de-coronavirus-colombia-2-de-septiembre', 'https://noticias.caracoltv.com/salud', 'https://noticias.caracoltv.com/salud/casos-de-coronavirus-colombia-2-de-septiembre', 'https://noticias.caracoltv.com/salud/casos-de-coronavirus-colombia-2-de-septiembre', 'https://noticias.caracoltv.com/salud/desde-el-congreso-denuncian-manipulacion-de-cifras-para-aplanar-curva-del-covid-19', 'https://noticias.caracoltv.com/salud', 'https://noticias.caracoltv.com/salud/desde-el-congreso-denuncian-manipulacion-de-cifras-para-aplanar-curva-del-covid-19', 'https://noticias.caracoltv.com/salud/desde-el-congreso-denuncian-manipulacion-de-cifras-para-aplanar-curva-del-covid-19', 'https://noticias.caracoltv.com/salud/heroica-labor-de-100-voluntarios-que-lucharon-contra-el-covid-en-varias-zonas-de-colombia', 'https://noticias.caracoltv.com/salud', 'https://noticias.caracoltv.com/salud/heroica-labor-de-100-voluntarios-que-lucharon-contra-el-covid-en-varias-zonas-de-colombia', 'https://noticias.caracoltv.com/salud/heroica-labor-de-100-voluntarios-que-lucharon-contra-el-covid-en-varias-zonas-de-colombia', 'https://noticias.caracoltv.com/salud/casos-de-coronavirus-colombia-1-de-septiembre', 'https://noticias.caracoltv.com/salud', 'https://noticias.caracoltv.com/salud/casos-de-coronavirus-colombia-1-de-septiembre', 'https://noticias.caracoltv.com/salud/casos-de-coronavirus-colombia-1-de-septiembre', 'https://noticias.caracoltv.com/salud/bacteriologa-contrajo-covid-19-en-abril-y-volvio-a-dar-positivo-en-julio-puede-ser-reinfeccion', 'https://noticias.caracoltv.com/salud', 'https://noticias.caracoltv.com/salud/bacteriologa-contrajo-covid-19-en-abril-y-volvio-a-dar-positivo-en-julio-puede-ser-reinfeccion', 'https://noticias.caracoltv.com/salud/bacteriologa-contrajo-covid-19-en-abril-y-volvio-a-dar-positivo-en-julio-puede-ser-reinfeccion', 'https://noticias.caracoltv.com/salud/cuidado-gobierno-reconoce-que-con-nueva-normalidad-puede-haber-un-rebrote-del-coronavirus', 'https://noticias.caracoltv.com/salud', 'https://noticias.caracoltv.com/salud/cuidado-gobierno-reconoce-que-con-nueva-normalidad-puede-haber-un-rebrote-del-coronavirus', 'https://noticias.caracoltv.com/salud/cuidado-gobierno-reconoce-que-con-nueva-normalidad-puede-haber-un-rebrote-del-coronavirus', 'https://noticias.caracoltv.com/salud/casos-de-coronavirus-colombia-31-de-agosto', 'https://noticias.caracoltv.com/salud', 'https://noticias.caracoltv.com/salud/casos-de-coronavirus-colombia-31-de-agosto', 'https://noticias.caracoltv.com/salud/casos-de-coronavirus-colombia-31-de-agosto', 'https://noticias.caracoltv.com/salud/tiene-barba-ojo-a-estas-recomendaciones-a-la-hora-de-usar-tapabocas', 'https://noticias.caracoltv.com/salud', 'https://noticias.caracoltv.com/salud/tiene-barba-ojo-a-estas-recomendaciones-a-la-hora-de-usar-tapabocas', 'https://noticias.caracoltv.com/salud/tiene-barba-ojo-a-estas-recomendaciones-a-la-hora-de-usar-tapabocas', 'https://noticias.caracoltv.com/salud/como-se-ve-afectado-el-olfato-por-el-coronavirus', 'https://noticias.caracoltv.com/salud', 'https://noticias.caracoltv.com/salud/como-se-ve-afectado-el-olfato-por-el-coronavirus', 'https://noticias.caracoltv.com/salud/como-se-ve-afectado-el-olfato-por-el-coronavirus', 'https://noticias.caracoltv.com/salud/que-significa-el-rastreo-de-contactos-de-covid-19-y-por-que-es-tan-importante', 'https://noticias.caracoltv.com/salud', 'https://noticias.caracoltv.com/salud/que-significa-el-rastreo-de-contactos-de-covid-19-y-por-que-es-tan-importante', 'https://noticias.caracoltv.com/salud/que-significa-el-rastreo-de-contactos-de-covid-19-y-por-que-es-tan-importante', 'https://noticias.caracoltv.com/entretenimiento/natalia-paris-sorprende-a-sus-seguidores-al-revelar-experiencia-paranormal', 'https://noticias.caracoltv.com/entretenimiento', 'https://noticias.caracoltv.com/entretenimiento/natalia-paris-sorprende-a-sus-seguidores-al-revelar-experiencia-paranormal', 'https://noticias.caracoltv.com/entretenimiento/natalia-paris-sorprende-a-sus-seguidores-al-revelar-experiencia-paranormal', 'https://noticias.caracoltv.com/entretenimiento/una-experiencia-maravillosa-fernando-trueba-sobre-hacer-el-olvido-que-seremos-en-colombia', 'https://noticias.caracoltv.com/entretenimiento', 'https://noticias.caracoltv.com/entretenimiento/una-experiencia-maravillosa-fernando-trueba-sobre-hacer-el-olvido-que-seremos-en-colombia', 'https://noticias.caracoltv.com/entretenimiento/una-experiencia-maravillosa-fernando-trueba-sobre-hacer-el-olvido-que-seremos-en-colombia', 'https://noticias.caracoltv.com/entretenimiento/dedicatoria-de-la-chilindrina-por-cumpleanos-de-don-ramon', 'https://noticias.caracoltv.com/entretenimiento', 'https://noticias.caracoltv.com/entretenimiento/dedicatoria-de-la-chilindrina-por-cumpleanos-de-don-ramon', 'https://noticias.caracoltv.com/entretenimiento/dedicatoria-de-la-chilindrina-por-cumpleanos-de-don-ramon', 'https://noticias.caracoltv.com/entretenimiento/salir-de-la-pobreza-ni-siquiera-es-tener-dinero-vea-el-contundente-mensaje-que-envio-la-liendra', 'https://noticias.caracoltv.com/entretenimiento', 'https://noticias.caracoltv.com/entretenimiento/salir-de-la-pobreza-ni-siquiera-es-tener-dinero-vea-el-contundente-mensaje-que-envio-la-liendra', 'https://noticias.caracoltv.com/entretenimiento/salir-de-la-pobreza-ni-siquiera-es-tener-dinero-vea-el-contundente-mensaje-que-envio-la-liendra', 'https://noticias.caracoltv.com/entretenimiento/el-dj-erick-morillo-muerto-en-extranas-circunstancias-enfrentaba-un-proceso-judicial-hace-un-mes', 'https://noticias.caracoltv.com/entretenimiento', 'https://noticias.caracoltv.com/entretenimiento/el-dj-erick-morillo-muerto-en-extranas-circunstancias-enfrentaba-un-proceso-judicial-hace-un-mes', 'https://noticias.caracoltv.com/entretenimiento/el-dj-erick-morillo-muerto-en-extranas-circunstancias-enfrentaba-un-proceso-judicial-hace-un-mes', 'https://noticias.caracoltv.com/entretenimiento/bts-habla-de-su-exitosa-cancion-dynamite-y-envia-un-mensaje-a-los-army-de-todo-el-mundo', 'https://noticias.caracoltv.com/entretenimiento', 'https://noticias.caracoltv.com/entretenimiento/bts-habla-de-su-exitosa-cancion-dynamite-y-envia-un-mensaje-a-los-army-de-todo-el-mundo', 'https://noticias.caracoltv.com/entretenimiento/bts-habla-de-su-exitosa-cancion-dynamite-y-envia-un-mensaje-a-los-army-de-todo-el-mundo', 'https://noticias.caracoltv.com/entretenimiento/sara-uribe-ensena-el-tatuaje-que-se-hizo-en-pareja', 'https://noticias.caracoltv.com/entretenimiento', 'https://noticias.caracoltv.com/entretenimiento/sara-uribe-ensena-el-tatuaje-que-se-hizo-en-pareja', 'https://noticias.caracoltv.com/entretenimiento/sara-uribe-ensena-el-tatuaje-que-se-hizo-en-pareja', 'https://noticias.caracoltv.com/entretenimiento/elton-john-billie-eilish-y-ozzy-osbourne-donaron-valiosos-objetos-para-una-subasta-benefica', 'https://noticias.caracoltv.com/entretenimiento', 'https://noticias.caracoltv.com/entretenimiento/elton-john-billie-eilish-y-ozzy-osbourne-donaron-valiosos-objetos-para-una-subasta-benefica', 'https://noticias.caracoltv.com/entretenimiento/elton-john-billie-eilish-y-ozzy-osbourne-donaron-valiosos-objetos-para-una-subasta-benefica', 'https://noticias.caracoltv.com/entretenimiento/jennifer-lopez-liderara-campana-para-que-las-mujeres-latinas-voten-en-elecciones-de-ee-uu', 'https://noticias.caracoltv.com/entretenimiento', 'https://noticias.caracoltv.com/entretenimiento/jennifer-lopez-liderara-campana-para-que-las-mujeres-latinas-voten-en-elecciones-de-ee-uu', 'https://noticias.caracoltv.com/entretenimiento/jennifer-lopez-liderara-campana-para-que-las-mujeres-latinas-voten-en-elecciones-de-ee-uu', 'https://noticias.caracoltv.com/antioquia/danna-garcia-y-las-secuelas-del-covid-19-es-una-sensacion-de-que-vas-a-atravesar-el-piso', 'https://noticias.caracoltv.com/antioquia', 'https://noticias.caracoltv.com/antioquia/danna-garcia-y-las-secuelas-del-covid-19-es-una-sensacion-de-que-vas-a-atravesar-el-piso', 'https://noticias.caracoltv.com/antioquia/danna-garcia-y-las-secuelas-del-covid-19-es-una-sensacion-de-que-vas-a-atravesar-el-piso']\n"
        }
      ]
    },
    {
      "cell_type": "code",
      "metadata": {
        "id": "N7TeuqLk-G-M",
        "colab_type": "code",
        "colab": {}
      },
      "source": [
        "import pandas as pd \n",
        "noticiasCaracol = pd.DataFrame(dictNoticias)\n",
        "noticiasCaracol\n",
        "\n",
        "noticiasCaracol.to_csv('noticiasCaracol.csv', index=False)"
      ],
      "execution_count": 13,
      "outputs": []
    },
    {
      "cell_type": "code",
      "execution_count": null,
      "metadata": {},
      "outputs": [],
      "source": []
    }
  ]
}