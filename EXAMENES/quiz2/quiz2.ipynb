{
  "nbformat": 4,
  "nbformat_minor": 0,
  "metadata": {
    "colab": {
      "name": "quiz2.ipynb",
      "provenance": [],
      "collapsed_sections": [],
      "toc_visible": true
    },
    "kernelspec": {
      "name": "python3",
      "display_name": "Python 3"
    }
  },
  "cells": [
    {
      "cell_type": "markdown",
      "metadata": {
        "id": "ijNaWmHg8aPs",
        "colab_type": "text"
      },
      "source": [
        "#PUNTO 1"
      ]
    },
    {
      "cell_type": "code",
      "metadata": {
        "id": "KNDHOF-27qFr",
        "colab_type": "code",
        "colab": {}
      },
      "source": [
        "import random  as r\n",
        "import time\n",
        "\n",
        "def crear_lista():\n",
        "    size_list= int (input(\"ingrese el tamaño de la lista : \"))\n",
        "    lista  = [r.randint(300,1230) for i in range (size_list)]\n",
        "\n",
        "    return lista\n",
        "\n",
        "def ordenamiento_burbuja(lista):\n",
        "    size = len (lista)\n",
        "    for i in range (size):\n",
        "        for j in range (0, size-i -1):\n",
        "            if lista [j]> lista[j+1]:\n",
        "                lista[j],lista[j+1] = lista[j+1],lista[j]\n",
        "    return lista\n",
        "\n",
        "def ordenamiento_por_insercion(lista):\n",
        "\n",
        "    for indice in range(1, len(lista)):\n",
        "        valor_actual = lista[indice]\n",
        "        posicion_actual = indice\n",
        "        while posicion_actual > 0 and lista[posicion_actual - 1] > valor_actual:\n",
        "            lista[posicion_actual] = lista[posicion_actual - 1]\n",
        "            posicion_actual -= 1\n",
        "        lista[posicion_actual] = valor_actual\n",
        "    return lista\n",
        "\n",
        "def ord_por_mezcla(lista):\n",
        "    if len(lista) > 1:\n",
        "        medio = len(lista) // 2\n",
        "        izquierda = lista[:medio]\n",
        "        derecha = lista[medio:]\n",
        "\n",
        "        izquierda = ord_por_mezcla(izquierda)\n",
        "        derecha = ord_por_mezcla(derecha)\n",
        "\n",
        "        i = 0\n",
        "        j = 0\n",
        "\n",
        "        k = 0\n",
        "\n",
        "        while i< len(izquierda) and j < len(derecha): \n",
        "            if izquierda[i] < derecha[j]:\n",
        "                lista[k] = izquierda[i]\n",
        "                i += 1\n",
        "            else:\n",
        "                lista[k] = derecha[j]\n",
        "                j += 1\n",
        "            k+= 1\n",
        "        while i < len(izquierda):\n",
        "            lista[k] = izquierda[i]\n",
        "            i+=1\n",
        "            k += 1\n",
        "        while j < len(derecha):\n",
        "            lista[k] = derecha[j]\n",
        "            j += 1\n",
        "            k += 1\n",
        "        \n",
        "\n",
        "    return lista"
      ],
      "execution_count": 1,
      "outputs": []
    },
    {
      "cell_type": "code",
      "metadata": {
        "id": "YAIZl4s077_G",
        "colab_type": "code",
        "colab": {
          "base_uri": "https://localhost:8080/",
          "height": 51
        },
        "outputId": "353de9f5-c040-4d6c-d183-e4f8ceaabdb4",
        "tags": []
      },
      "source": [
        "lista = crear_lista()\n",
        "print(lista)"
      ],
      "execution_count": 2,
      "outputs": [
        {
          "output_type": "stream",
          "name": "stdout",
          "text": "[1156, 426, 1147, 1205, 1057, 931, 919, 866, 1194, 585, 1214, 943, 561, 711, 665, 692, 898, 532, 1055, 642, 868, 372, 496, 1088, 831, 456, 428, 427, 1177, 499, 905, 520, 536, 589, 996, 351, 1127, 379, 702, 687, 463, 522, 718, 894, 881, 1074, 1029, 750, 725, 720, 1090, 1013, 1049, 596, 1030, 1155, 1031, 1227, 1155, 310, 537, 864, 860, 333, 572, 366, 806, 880, 948, 693, 662, 858, 371, 958, 1120, 305, 1094, 776, 437, 1171, 1135, 343, 719, 824, 683, 1054, 1001, 705, 694, 480, 689, 646, 692, 993, 790, 698, 900, 525, 1031, 847]\n"
        }
      ]
    },
    {
      "cell_type": "code",
      "metadata": {
        "id": "bUvLsScY8JUz",
        "colab_type": "code",
        "colab": {
          "base_uri": "https://localhost:8080/",
          "height": 51
        },
        "outputId": "e1d80ef6-8541-4dd3-fe53-d4514a86b78a",
        "tags": []
      },
      "source": [
        "inicial_burbuja = time.time()\n",
        "lista_ordenada_burbuja = ordenamiento_burbuja(lista)\n",
        "final_burbuja = time.time()\n",
        "print(lista_ordenada_burbuja)\n",
        "print(\"Tiempo ordenamianto burbuja:\", final_burbuja-inicial_burbuja)"
      ],
      "execution_count": 3,
      "outputs": [
        {
          "output_type": "stream",
          "name": "stdout",
          "text": "[305, 310, 333, 343, 351, 366, 371, 372, 379, 426, 427, 428, 437, 456, 463, 480, 496, 499, 520, 522, 525, 532, 536, 537, 561, 572, 585, 589, 596, 642, 646, 662, 665, 683, 687, 689, 692, 692, 693, 694, 698, 702, 705, 711, 718, 719, 720, 725, 750, 776, 790, 806, 824, 831, 847, 858, 860, 864, 866, 868, 880, 881, 894, 898, 900, 905, 919, 931, 943, 948, 958, 993, 996, 1001, 1013, 1029, 1030, 1031, 1031, 1049, 1054, 1055, 1057, 1074, 1088, 1090, 1094, 1120, 1127, 1135, 1147, 1155, 1155, 1156, 1171, 1177, 1194, 1205, 1214, 1227]\nTiempo ordenamianto burbuja: 0.001992940902709961\n"
        }
      ]
    },
    {
      "cell_type": "code",
      "metadata": {
        "id": "K4AWGHeY8Nh0",
        "colab_type": "code",
        "colab": {
          "base_uri": "https://localhost:8080/",
          "height": 51
        },
        "outputId": "99e09db1-8703-4391-9f0f-9c8083af7860",
        "tags": []
      },
      "source": [
        "inicial_insercion = time.time()\n",
        "lista_ordenada_insercion = ordenamiento_por_insercion(lista)\n",
        "final_insercion = time.time()\n",
        "print(lista_ordenada_insercion)\n",
        "print(\"Tiempo ordenamiento por inserción:\", final_insercion-inicial_insercion)"
      ],
      "execution_count": 4,
      "outputs": [
        {
          "output_type": "stream",
          "name": "stdout",
          "text": "[305, 310, 333, 343, 351, 366, 371, 372, 379, 426, 427, 428, 437, 456, 463, 480, 496, 499, 520, 522, 525, 532, 536, 537, 561, 572, 585, 589, 596, 642, 646, 662, 665, 683, 687, 689, 692, 692, 693, 694, 698, 702, 705, 711, 718, 719, 720, 725, 750, 776, 790, 806, 824, 831, 847, 858, 860, 864, 866, 868, 880, 881, 894, 898, 900, 905, 919, 931, 943, 948, 958, 993, 996, 1001, 1013, 1029, 1030, 1031, 1031, 1049, 1054, 1055, 1057, 1074, 1088, 1090, 1094, 1120, 1127, 1135, 1147, 1155, 1155, 1156, 1171, 1177, 1194, 1205, 1214, 1227]\nTiempo ordenamiento por inserción: 0.0\n"
        }
      ]
    },
    {
      "cell_type": "code",
      "metadata": {
        "id": "bXN0avye8S68",
        "colab_type": "code",
        "colab": {
          "base_uri": "https://localhost:8080/",
          "height": 51
        },
        "outputId": "7bce1f65-8a9e-4939-da84-ea8199de46bb",
        "tags": []
      },
      "source": [
        "inicial_mezcla = time.time()\n",
        "lista_ordenada_mezcla = ord_por_mezcla(lista)\n",
        "final_mezcla = time.time()\n",
        "print(lista_ordenada_mezcla)\n",
        "print(\"Tiempo ordenamiento por mezcla:\", final_mezcla-inicial_mezcla)"
      ],
      "execution_count": 5,
      "outputs": [
        {
          "output_type": "stream",
          "name": "stdout",
          "text": "[305, 310, 333, 343, 351, 366, 371, 372, 379, 426, 427, 428, 437, 456, 463, 480, 496, 499, 520, 522, 525, 532, 536, 537, 561, 572, 585, 589, 596, 642, 646, 662, 665, 683, 687, 689, 692, 692, 693, 694, 698, 702, 705, 711, 718, 719, 720, 725, 750, 776, 790, 806, 824, 831, 847, 858, 860, 864, 866, 868, 880, 881, 894, 898, 900, 905, 919, 931, 943, 948, 958, 993, 996, 1001, 1013, 1029, 1030, 1031, 1031, 1049, 1054, 1055, 1057, 1074, 1088, 1090, 1094, 1120, 1127, 1135, 1147, 1155, 1155, 1156, 1171, 1177, 1194, 1205, 1214, 1227]\nTiempo ordenamiento por mezcla: 0.0009996891021728516\n"
        }
      ]
    },
    {
      "cell_type": "markdown",
      "metadata": {
        "id": "O5s8rLkZ8j8z",
        "colab_type": "text"
      },
      "source": [
        "#PUNTO 2"
      ]
    },
    {
      "cell_type": "code",
      "metadata": {
        "id": "kDQjm6Ex8pC7",
        "colab_type": "code",
        "colab": {
          "base_uri": "https://localhost:8080/",
          "height": 34
        },
        "outputId": "efe903c5-8476-4981-d7d1-beb912196846",
        "tags": []
      },
      "source": [
        "import requests\n",
        "import bs4\n",
        "\n",
        "url = \"https://noticias.caracoltv.com/\"\n",
        "\n",
        "response = requests.get(url)\n",
        "print(response)"
      ],
      "execution_count": 6,
      "outputs": [
        {
          "output_type": "stream",
          "name": "stdout",
          "text": "<Response [200]>\n"
        }
      ]
    },
    {
      "cell_type": "code",
      "metadata": {
        "id": "2z_v3q1Y867b",
        "colab_type": "code",
        "colab": {
          "base_uri": "https://localhost:8080/",
          "height": 71
        },
        "outputId": "184a8985-ee5e-48e2-aa0a-99337032ddcd",
        "tags": []
      },
      "source": [
        "completo = bs4.BeautifulSoup(response.text,'html.parser')\n",
        "noticias = completo.select(\".PromoB-title a\")\n",
        "print (noticias)"
      ],
      "execution_count": 8,
      "outputs": [
        {
          "output_type": "stream",
          "name": "stdout",
          "text": "[<a class=\"Link\" data-cms-ai=\"0\" href=\"https://noticias.caracoltv.com/economia/por-fin-vera-la-luz-el-tunel-de-la-linea-empieza-a-funcionar-este-4-de-septiembre\">¡Por fin verá la luz! El túnel de La Línea empieza a funcionar este 4 de septiembre </a>, <a class=\"Link\" data-cms-ai=\"0\" href=\"https://noticias.caracoltv.com/caribe/acordeonero-que-le-canto-a-la-pandemia-y-sobrevivio-al-covid-perdio-la-batalla-contra-otro-enemigo\">Acordeonero que le cantó a la pandemia y sobrevivió al COVID perdió la batalla contra otro enemigo</a>, <a class=\"Link\" data-cms-ai=\"0\" href=\"https://noticias.caracoltv.com/el-periodista-soy-yo/bus-del-sitp-repleto-de-pasajeros-una-imagen-que-preocupa-en-bogota\">Bus del SITP repleto de pasajeros: una imagen que preocupa en Bogotá </a>, <a class=\"Link\" data-cms-ai=\"0\" href=\"https://noticias.caracoltv.com/antioquia/tutela-dice-que-el-cartel-de-medellin-lo-creo-el-clero-ruso-ortodoxo\">Niegan insólita tutela a mujer que dice que el cartel de Medellín lo creó el “Clero Ruso Ortodoxo”</a>, <a class=\"Link\" data-cms-ai=\"0\" href=\"https://noticias.caracoltv.com/mundo/bebe-milagro-su-mama-murio-tras-ser-arrollada-por-conductora-ebria\">La historia de una ‘bebé milagro’: su mamá murió tras ser arrollada por conductora ebria </a>, <a class=\"Link\" data-cms-ai=\"0\" href=\"https://noticias.caracoltv.com/politica/derrotamos-al-gobierno-se-cayo-el-mico-de-la-ley-de-regalias-que-daba-luz-verde-al-fracking\">\"Derrotamos al gobierno\": se cayó el 'mico' de la ley de regalías que daba luz verde al fracking  </a>, <a class=\"Link\" data-cms-ai=\"0\" href=\"https://noticias.caracoltv.com/tour-de-francia/ciclismo-egan-bernal-envio-un-mensaje-tras-la-etapa-6-del-tour-de-francia-hay-que-tener-paciencia\">Egan Bernal envió un mensaje tras la etapa 6 del Tour de Francia: “hay que tener paciencia”</a>, <a class=\"Link\" data-cms-ai=\"0\" href=\"https://noticias.caracoltv.com/tour-de-francia/el-debut-en-el-tour-de-francia-todavia-no-le-sonrie-a-dayer-quintana-volvio-a-caerse-en-la-etapa-6\">El debut en el Tour de Francia todavía no le sonríe a Dayer Quintana: volvió a caerse en la etapa 6 </a>, <a class=\"Link\" data-cms-ai=\"0\" href=\"https://noticias.caracoltv.com/tour-de-francia/ciclista-por-que-ningun-ciclista-se-atreve-a-lanzar-un-ataque-en-la-montana-del-tour-de-francia\">¿Por qué ningún ciclista se atreve a lanzar un ataque en la montaña del Tour de Francia? </a>, <a class=\"Link\" data-cms-ai=\"0\" href=\"https://noticias.caracoltv.com/salud/canada-sugiere-saltarse-los-besos-y-usar-tapabocas-durante-el-sexo-en-tiempo-de-coronavirus\">Canadá sugiere \"saltarse\" los besos y usar tapabocas durante el sexo en tiempo de coronavirus</a>, <a class=\"Link\" data-cms-ai=\"0\" href=\"https://noticias.caracoltv.com/mundo/india-supero-sus-propias-cifras-record-de-contagios-diarios-con-covid-19\">India superó sus propias cifras récord de contagios diarios con COVID-19 </a>, <a class=\"Link\" data-cms-ai=\"0\" href=\"https://noticias.caracoltv.com/salud/colombia-hara-estudio-para-medir-el-dano-causado-por-el-covid-19\">Colombia hará estudio para medir el daño causado por el COVID-19 </a>, <a class=\"Link\" data-cms-ai=\"0\" href=\"https://noticias.caracoltv.com/valle/vuelve-la-rumba-y-cali-lo-sabe-asi-sera-aguaelulo-que-reactiva-este-sector-en-la-ciudad\">Vuelve la rumba y Cali lo sabe: así será ‘aguae'lulo’ que reactiva este sector en la ciudad </a>, <a class=\"Link\" data-cms-ai=\"0\" href=\"https://noticias.caracoltv.com/salud/el-93-de-proyectos-de-vacunas-no-llegan-a-la-fase-iii-minsalud-pide-optimismo-moderado\">El 93% de proyectos de vacunas no llegan a la fase III: Minsalud pide “optimismo moderado” </a>, <a class=\"Link\" data-cms-ai=\"0\" href=\"https://noticias.caracoltv.com/entretenimiento/la-roca-revelo-que-el-y-su-familia-tuvieron-coronavirus\">La Roca reveló que él y su familia tuvieron coronavirus</a>, <a class=\"Link\" data-cms-ai=\"0\" href=\"https://noticias.caracoltv.com/salud/vacuna-contra-covid-19-no-estaria-antes-del-primer-semestre-de-2021-minsalud\">Vacuna contra COVID-19 no estaría antes del primer semestre de 2021: Minsalud</a>, <a class=\"Link\" data-cms-ai=\"0\" href=\"https://noticias.caracoltv.com/antioquia/mi-bebe-es-muy-pequeno-y-no-le-puedo-faltar-danna-garcia-habla-de-la-muerte-tras-el-covid-19\">“Mi bebé es muy pequeño y no le puedo faltar”: Danna García habla de la muerte tras el COVID-19</a>, <a class=\"Link\" data-cms-ai=\"0\" href=\"https://noticias.caracoltv.com/mundo/si-lees-esto-estoy-muerto-lo-que-escribio-joven-antes-de-ser-alcanzado-por-un-violador\">“Si lees esto, estoy muerto”: lo que escribió joven antes de ser alcanzado por un violador</a>, <a class=\"Link\" data-cms-ai=\"0\" href=\"https://noticias.caracoltv.com/antioquia/ladron-huyo-al-ver-que-su-complice-fue-herido-de-muerte-por-un-escolta-en-el-sur-de-medellin\">Ladrón huyó al ver que su cómplice fue herido de muerte por un escolta en el sur de Medellín</a>, <a class=\"Link\" data-cms-ai=\"0\" href=\"https://noticias.caracoltv.com/antioquia/preparese-para-ver-mas-gente-en-el-metro-autorizaron-ampliar-su-capacidad-de-ocupacion\">Prepárese para ver más gente en el Metro: autorizaron ampliar su capacidad de ocupación</a>, <a class=\"Link\" data-cms-ai=\"0\" href=\"https://noticias.caracoltv.com/valle/por-una-afeccion-respiratoria-clara-luz-roldan-fue-internada-en-una-clinica-de-cali\">Por una “afección respiratoria”, Clara Luz Roldán fue internada en una clínica de Cali</a>, <a class=\"Link\" data-cms-ai=\"0\" href=\"https://noticias.caracoltv.com/caribe/heroicos-policias-salvaron-a-mujer-que-estaba-a-punto-de-lanzarse-desde-un-puente-en-magdalena\">Heroicos policías salvaron a mujer que estaba a punto de lanzarse desde un puente en Magdalena</a>, <a class=\"Link\" data-cms-ai=\"0\" href=\"https://noticias.caracoltv.com/valle/madre-del-delito-mujer-que-integraba-banda-criminal-escondia-las-armas-en-el-coche-de-su-hijo\">Madre del delito: mujer que integraba banda criminal escondía las armas en el coche de su hijo </a>, <a class=\"Link\" data-cms-ai=\"0\" href=\"https://noticias.caracoltv.com/antioquia/ciudadanos-denuncian-calvario-para-poder-sacar-sus-vehiculos-de-los-patios-en-medellin\">Ciudadanos denuncian calvario para poder sacar sus vehículos de los patios en Medellín</a>, <a class=\"Link\" data-cms-ai=\"0\" href=\"https://noticias.caracoltv.com/caribe/nino-de-12-anos-sufrio-graves-quemaduras-tras-la-caida-de-un-cable-en-barranquilla\">Niño de 12 años sufrió graves quemaduras tras la caída de un cable en Barranquilla </a>, <a class=\"Link\" data-cms-ai=\"0\" href=\"https://noticias.caracoltv.com/valle/carcel-para-una-joven-que-asesino-a-una-mujer-durante-una-rina-entre-pandillas\">Cárcel para una joven que asesinó a una mujer durante una riña entre pandillas </a>, <a class=\"Link\" data-cms-ai=\"0\" href=\"https://noticias.caracoltv.com/antioquia/rescatan-a-trabajadores-que-habian-caido-a-un-abismo-en-el-tunel-del-toyo\">Rescatan a trabajadores que habían caído a un abismo en el Túnel del Toyo</a>, <a class=\"Link\" data-cms-ai=\"0\" href=\"https://noticias.caracoltv.com/mundo/encuentran-los-cuerpos-de-5-hermanitos-en-un-apartamento-y-la-mama-seria-la-responsable-del-crimen\">Encuentran los cuerpos de 5 hermanitos en un apartamento y la mamá sería la responsable del crimen</a>, <a class=\"Link\" data-cms-ai=\"0\" href=\"https://noticias.caracoltv.com/mundo/como-malabarista-de-circo-arriesgo-su-vida-para-robar-cableado-electrico-y-termino-mal\">Como malabarista de circo: arriesgó su vida para robar cableado eléctrico a 10 metros de altura</a>, <a class=\"Link\" data-cms-ai=\"0\" href=\"https://noticias.caracoltv.com/mundo/reunion-entre-henrique-capriles-y-el-gobierno-de-maduro-molesto-a-guaido\">Reunión entre Henrique Capriles y el gobierno de Maduro molestó a Guaidó  </a>, <a class=\"Link\" data-cms-ai=\"0\" href=\"https://noticias.caracoltv.com/mundo/prueba-indiscutible-confirman-que-alexei-navalny-duro-critico-de-vladimir-putin-fue-envenenado\">“Prueba indiscutible”: confirman que Alexei Navalny, duro crítico de Vladimir Putin, fue envenenado </a>, <a class=\"Link\" data-cms-ai=\"0\" href=\"https://noticias.caracoltv.com/mundo/ee-uu-se-la-juega-por-deportar-a-mancuso-a-colombia-estos-dos-sus-argumentos\">EE. UU. se la juega por deportar a Mancuso a Colombia: estos son sus argumentos  </a>, <a class=\"Link\" data-cms-ai=\"0\" href=\"https://noticias.caracoltv.com/mundo/esto-es-hermoso-papa-francisco-se-reencuentra-cara-a-cara-con-fieles-luego-de-6-meses\">“Esto es hermoso”: papa Francisco se reencuentra cara a cara con fieles luego de 6 meses</a>, <a class=\"Link\" data-cms-ai=\"0\" href=\"https://noticias.caracoltv.com/mundo/muere-joven-embarazada-en-atentado-contra-su-novio-mientras-ambos-dormian\">Muere joven embarazada en atentado contra su novio mientras ambos dormían</a>, <a class=\"Link\" data-cms-ai=\"0\" href=\"https://noticias.caracoltv.com/mundo/se-le-dano-la-risa-a-grupo-de-payasos-que-despedia-con-fiesta-a-uno-de-sus-colegas\">Se les dañó la risa a payasos que despedían con fiesta a uno de sus colegas</a>, <a class=\"Link\" data-cms-ai=\"0\" href=\"https://noticias.caracoltv.com/mundo/ee-uu-no-participara-en-plataforma-de-la-oms-para-distribuir-la-vacuna-del-coronavirus\">EE. UU. no participará en plataforma de la OMS para distribuir la vacuna del coronavirus </a>, <a class=\"Link\" data-cms-ai=\"0\" href=\"https://noticias.caracoltv.com/mundo/muere-otro-hombre-afroamericano-a-manos-de-la-policia-en-ee-uu-denuncian-que-le-dieron-mas-de-20-tiros\">Muere otro afroamericano a manos de la Policía en EE. UU.: denuncian que le dieron más de 20 tiros</a>, <a class=\"Link\" data-cms-ai=\"0\" href=\"https://noticias.caracoltv.com/salud/casos-de-coronavirus-colombia-2-de-septiembre\">Coronavirus cobró la vida de otros 296 colombianos: han muerto 20.348</a>, <a class=\"Link\" data-cms-ai=\"0\" href=\"https://noticias.caracoltv.com/salud/desde-el-congreso-denuncian-manipulacion-de-cifras-para-aplanar-curva-del-covid-19\">Desde el Congreso denuncian manipulación de cifras para aplanar curva del COVID-19 </a>, <a class=\"Link\" data-cms-ai=\"0\" href=\"https://noticias.caracoltv.com/salud/heroica-labor-de-100-voluntarios-que-lucharon-contra-el-covid-en-varias-zonas-de-colombia\">Heroica labor de 100 voluntarios que lucharon contra el COVID en varias zonas de Colombia</a>, <a class=\"Link\" data-cms-ai=\"0\" href=\"https://noticias.caracoltv.com/salud/casos-de-coronavirus-colombia-1-de-septiembre\">Colombia supera los 20 mil muertos por coronavirus, justo el día que empieza la \"nueva realidad\"</a>, <a class=\"Link\" data-cms-ai=\"0\" href=\"https://noticias.caracoltv.com/salud/bacteriologa-contrajo-covid-19-en-abril-y-volvio-a-dar-positivo-en-julio-puede-ser-reinfeccion\">Bacterióloga contrajo COVID-19 en abril y volvió a dar positivo en julio: ¿puede ser reinfección? </a>, <a class=\"Link\" data-cms-ai=\"0\" href=\"https://noticias.caracoltv.com/salud/cuidado-gobierno-reconoce-que-con-nueva-normalidad-puede-haber-un-rebrote-del-coronavirus\">¡Cuidado! Gobierno reconoce que con nueva normalidad puede haber un rebrote del coronavirus \n </a>, <a class=\"Link\" data-cms-ai=\"0\" href=\"https://noticias.caracoltv.com/salud/casos-de-coronavirus-colombia-31-de-agosto\">Colombia se acerca a las 20.000 muertes por COVID-19 al registrar 299 en el último reporte</a>, <a class=\"Link\" data-cms-ai=\"0\" href=\"https://noticias.caracoltv.com/salud/tiene-barba-ojo-a-estas-recomendaciones-a-la-hora-de-usar-tapabocas\">¿Tiene barba? Ojo a estas recomendaciones a la hora de usar tapabocas</a>, <a class=\"Link\" data-cms-ai=\"0\" href=\"https://noticias.caracoltv.com/salud/como-se-ve-afectado-el-olfato-por-el-coronavirus\">¿Cómo se ve afectado el olfato por el coronavirus?  </a>, <a class=\"Link\" data-cms-ai=\"0\" href=\"https://noticias.caracoltv.com/salud/que-significa-el-rastreo-de-contactos-de-covid-19-y-por-que-es-tan-importante\">¿Qué significa el rastreo de contactos de COVID-19 y por qué es tan importante? </a>, <a class=\"Link\" data-cms-ai=\"0\" href=\"https://noticias.caracoltv.com/entretenimiento/respuesta-de-shannon-de-lima-a-usuario-que-le-dijo-mantenida-de-james\">Contundente respuesta de Shannon De Lima a usuario que le dijo “mantenida” de James</a>, <a class=\"Link\" data-cms-ai=\"0\" href=\"https://noticias.caracoltv.com/entretenimiento/natalia-paris-sorprende-a-sus-seguidores-al-revelar-experiencia-paranormal\">Natalia París sorprende a sus seguidores al revelar experiencia paranormal</a>, <a class=\"Link\" data-cms-ai=\"0\" href=\"https://noticias.caracoltv.com/entretenimiento/una-experiencia-maravillosa-fernando-trueba-sobre-hacer-el-olvido-que-seremos-en-colombia\">“Una experiencia maravillosa”: Fernando Trueba sobre hacer ‘El olvido que seremos’ en Colombia</a>, <a class=\"Link\" data-cms-ai=\"0\" href=\"https://noticias.caracoltv.com/entretenimiento/dedicatoria-de-la-chilindrina-por-cumpleanos-de-don-ramon\">“Te extraño mucho, papá”: tierna dedicatoria de La Chilindrina por cumpleaños de Don Ramón</a>, <a class=\"Link\" data-cms-ai=\"0\" href=\"https://noticias.caracoltv.com/entretenimiento/salir-de-la-pobreza-ni-siquiera-es-tener-dinero-vea-el-contundente-mensaje-que-envio-la-liendra\">“Salir de la pobreza ni siquiera es tener dinero”: vea el contundente mensaje que envió La Liendra</a>, <a class=\"Link\" data-cms-ai=\"0\" href=\"https://noticias.caracoltv.com/entretenimiento/el-dj-erick-morillo-muerto-en-extranas-circunstancias-enfrentaba-un-proceso-judicial-hace-un-mes\">El DJ Erick Morillo, muerto en extrañas circunstancias, enfrentaba un proceso judicial hace un mes</a>, <a class=\"Link\" data-cms-ai=\"0\" href=\"https://noticias.caracoltv.com/entretenimiento/bts-habla-de-su-exitosa-cancion-dynamite-y-envia-un-mensaje-a-los-army-de-todo-el-mundo\">BTS habla de su exitosa canción ‘Dynamite’ y envía un mensaje a los 'Army' de todo el mundo</a>, <a class=\"Link\" data-cms-ai=\"0\" href=\"https://noticias.caracoltv.com/entretenimiento/sara-uribe-ensena-el-tatuaje-que-se-hizo-en-pareja\">Sara Uribe enseña el tatuaje que se hizo en pareja </a>, <a class=\"Link\" data-cms-ai=\"0\" href=\"https://noticias.caracoltv.com/entretenimiento/elton-john-billie-eilish-y-ozzy-osbourne-donaron-valiosos-objetos-para-una-subasta-benefica\">Elton John, Billie Eilish y Ozzy Osbourne donaron valiosos objetos para una subasta benéfica  </a>, <a class=\"Link\" data-cms-ai=\"0\" href=\"https://noticias.caracoltv.com/entretenimiento/jennifer-lopez-liderara-campana-para-que-las-mujeres-latinas-voten-en-elecciones-de-ee-uu\">Jennifer Lopez liderará campaña para que las mujeres latinas voten en elecciones de EE. UU.</a>]\n"
        }
      ]
    },
    {
      "cell_type": "code",
      "metadata": {
        "id": "ouVrswyM95sM",
        "colab_type": "code",
        "colab": {
          "base_uri": "https://localhost:8080/",
          "height": 71
        },
        "outputId": "ba72f561-a351-4ad9-95f1-79c39ecb45b0",
        "tags": []
      },
      "source": [
        "titulos =[]\n",
        "links = []\n",
        "for noticia in noticias:\n",
        "  titulos.append(noticia.text)\n",
        "  links.append(noticia['href'])\n",
        "print (titulos)\n",
        "print (links)\n",
        "dictNoticias = {}\n",
        "dictNoticias['Noticias']= titulos\n",
        "dictNoticias['links']= links"
      ],
      "execution_count": 10,
      "outputs": [
        {
          "output_type": "stream",
          "name": "stdout",
          "text": "['¡Por fin verá la luz! El túnel de La Línea empieza a funcionar este 4 de septiembre ', 'Acordeonero que le cantó a la pandemia y sobrevivió al COVID perdió la batalla contra otro enemigo', 'Bus del SITP repleto de pasajeros: una imagen que preocupa en Bogotá ', 'Niegan insólita tutela a mujer que dice que el cartel de Medellín lo creó el “Clero Ruso Ortodoxo”', 'La historia de una ‘bebé milagro’: su mamá murió tras ser arrollada por conductora ebria ', '\"Derrotamos al gobierno\": se cayó el \\'mico\\' de la ley de regalías que daba luz verde al fracking  ', 'Egan Bernal envió un mensaje tras la etapa 6 del Tour de Francia: “hay que tener paciencia”', 'El debut en el Tour de Francia todavía no le sonríe a Dayer Quintana: volvió a caerse en la etapa 6 ', '¿Por qué ningún ciclista se atreve a lanzar un ataque en la montaña del Tour de Francia? ', 'Canadá sugiere \"saltarse\" los besos y usar tapabocas durante el sexo en tiempo de coronavirus', 'India superó sus propias cifras récord de contagios diarios con COVID-19 ', 'Colombia hará estudio para medir el daño causado por el COVID-19 ', \"Vuelve la rumba y Cali lo sabe: así será ‘aguae'lulo’ que reactiva este sector en la ciudad \", 'El 93% de proyectos de vacunas no llegan a la fase III: Minsalud pide “optimismo moderado” ', 'La Roca reveló que él y su familia tuvieron coronavirus', 'Vacuna contra COVID-19 no estaría antes del primer semestre de 2021: Minsalud', '“Mi bebé es muy pequeño y no le puedo faltar”: Danna García habla de la muerte tras el COVID-19', '“Si lees esto, estoy muerto”: lo que escribió joven antes de ser alcanzado por un violador', 'Ladrón huyó al ver que su cómplice fue herido de muerte por un escolta en el sur de Medellín', 'Prepárese para ver más gente en el Metro: autorizaron ampliar su capacidad de ocupación', 'Por una “afección respiratoria”, Clara Luz Roldán fue internada en una clínica de Cali', 'Heroicos policías salvaron a mujer que estaba a punto de lanzarse desde un puente en Magdalena', 'Madre del delito: mujer que integraba banda criminal escondía las armas en el coche de su hijo ', 'Ciudadanos denuncian calvario para poder sacar sus vehículos de los patios en Medellín', 'Niño de 12 años sufrió graves quemaduras tras la caída de un cable en Barranquilla ', 'Cárcel para una joven que asesinó a una mujer durante una riña entre pandillas ', 'Rescatan a trabajadores que habían caído a un abismo en el Túnel del Toyo', 'Encuentran los cuerpos de 5 hermanitos en un apartamento y la mamá sería la responsable del crimen', 'Como malabarista de circo: arriesgó su vida para robar cableado eléctrico a 10 metros de altura', 'Reunión entre Henrique Capriles y el gobierno de Maduro molestó a Guaidó  ', '“Prueba indiscutible”: confirman que Alexei Navalny, duro crítico de Vladimir Putin, fue envenenado ', 'EE. UU. se la juega por deportar a Mancuso a Colombia: estos son sus argumentos  ', '“Esto es hermoso”: papa Francisco se reencuentra cara a cara con fieles luego de 6 meses', 'Muere joven embarazada en atentado contra su novio mientras ambos dormían', 'Se les dañó la risa a payasos que despedían con fiesta a uno de sus colegas', 'EE. UU. no participará en plataforma de la OMS para distribuir la vacuna del coronavirus ', 'Muere otro afroamericano a manos de la Policía en EE. UU.: denuncian que le dieron más de 20 tiros', 'Coronavirus cobró la vida de otros 296 colombianos: han muerto 20.348', 'Desde el Congreso denuncian manipulación de cifras para aplanar curva del COVID-19 ', 'Heroica labor de 100 voluntarios que lucharon contra el COVID en varias zonas de Colombia', 'Colombia supera los 20 mil muertos por coronavirus, justo el día que empieza la \"nueva realidad\"', 'Bacterióloga contrajo COVID-19 en abril y volvió a dar positivo en julio: ¿puede ser reinfección? ', '¡Cuidado! Gobierno reconoce que con nueva normalidad puede haber un rebrote del coronavirus \\r\\n ', 'Colombia se acerca a las 20.000 muertes por COVID-19 al registrar 299 en el último reporte', '¿Tiene barba? Ojo a estas recomendaciones a la hora de usar tapabocas', '¿Cómo se ve afectado el olfato por el coronavirus?  ', '¿Qué significa el rastreo de contactos de COVID-19 y por qué es tan importante? ', 'Contundente respuesta de Shannon De Lima a usuario que le dijo “mantenida” de James', 'Natalia París sorprende a sus seguidores al revelar experiencia paranormal', '“Una experiencia maravillosa”: Fernando Trueba sobre hacer ‘El olvido que seremos’ en Colombia', '“Te extraño mucho, papá”: tierna dedicatoria de La Chilindrina por cumpleaños de Don Ramón', '“Salir de la pobreza ni siquiera es tener dinero”: vea el contundente mensaje que envió La Liendra', 'El DJ Erick Morillo, muerto en extrañas circunstancias, enfrentaba un proceso judicial hace un mes', \"BTS habla de su exitosa canción ‘Dynamite’ y envía un mensaje a los 'Army' de todo el mundo\", 'Sara Uribe enseña el tatuaje que se hizo en pareja ', 'Elton John, Billie Eilish y Ozzy Osbourne donaron valiosos objetos para una subasta benéfica  ', 'Jennifer Lopez liderará campaña para que las mujeres latinas voten en elecciones de EE. UU.']\n['https://noticias.caracoltv.com/economia/por-fin-vera-la-luz-el-tunel-de-la-linea-empieza-a-funcionar-este-4-de-septiembre', 'https://noticias.caracoltv.com/caribe/acordeonero-que-le-canto-a-la-pandemia-y-sobrevivio-al-covid-perdio-la-batalla-contra-otro-enemigo', 'https://noticias.caracoltv.com/el-periodista-soy-yo/bus-del-sitp-repleto-de-pasajeros-una-imagen-que-preocupa-en-bogota', 'https://noticias.caracoltv.com/antioquia/tutela-dice-que-el-cartel-de-medellin-lo-creo-el-clero-ruso-ortodoxo', 'https://noticias.caracoltv.com/mundo/bebe-milagro-su-mama-murio-tras-ser-arrollada-por-conductora-ebria', 'https://noticias.caracoltv.com/politica/derrotamos-al-gobierno-se-cayo-el-mico-de-la-ley-de-regalias-que-daba-luz-verde-al-fracking', 'https://noticias.caracoltv.com/tour-de-francia/ciclismo-egan-bernal-envio-un-mensaje-tras-la-etapa-6-del-tour-de-francia-hay-que-tener-paciencia', 'https://noticias.caracoltv.com/tour-de-francia/el-debut-en-el-tour-de-francia-todavia-no-le-sonrie-a-dayer-quintana-volvio-a-caerse-en-la-etapa-6', 'https://noticias.caracoltv.com/tour-de-francia/ciclista-por-que-ningun-ciclista-se-atreve-a-lanzar-un-ataque-en-la-montana-del-tour-de-francia', 'https://noticias.caracoltv.com/salud/canada-sugiere-saltarse-los-besos-y-usar-tapabocas-durante-el-sexo-en-tiempo-de-coronavirus', 'https://noticias.caracoltv.com/mundo/india-supero-sus-propias-cifras-record-de-contagios-diarios-con-covid-19', 'https://noticias.caracoltv.com/salud/colombia-hara-estudio-para-medir-el-dano-causado-por-el-covid-19', 'https://noticias.caracoltv.com/valle/vuelve-la-rumba-y-cali-lo-sabe-asi-sera-aguaelulo-que-reactiva-este-sector-en-la-ciudad', 'https://noticias.caracoltv.com/salud/el-93-de-proyectos-de-vacunas-no-llegan-a-la-fase-iii-minsalud-pide-optimismo-moderado', 'https://noticias.caracoltv.com/entretenimiento/la-roca-revelo-que-el-y-su-familia-tuvieron-coronavirus', 'https://noticias.caracoltv.com/salud/vacuna-contra-covid-19-no-estaria-antes-del-primer-semestre-de-2021-minsalud', 'https://noticias.caracoltv.com/antioquia/mi-bebe-es-muy-pequeno-y-no-le-puedo-faltar-danna-garcia-habla-de-la-muerte-tras-el-covid-19', 'https://noticias.caracoltv.com/mundo/si-lees-esto-estoy-muerto-lo-que-escribio-joven-antes-de-ser-alcanzado-por-un-violador', 'https://noticias.caracoltv.com/antioquia/ladron-huyo-al-ver-que-su-complice-fue-herido-de-muerte-por-un-escolta-en-el-sur-de-medellin', 'https://noticias.caracoltv.com/antioquia/preparese-para-ver-mas-gente-en-el-metro-autorizaron-ampliar-su-capacidad-de-ocupacion', 'https://noticias.caracoltv.com/valle/por-una-afeccion-respiratoria-clara-luz-roldan-fue-internada-en-una-clinica-de-cali', 'https://noticias.caracoltv.com/caribe/heroicos-policias-salvaron-a-mujer-que-estaba-a-punto-de-lanzarse-desde-un-puente-en-magdalena', 'https://noticias.caracoltv.com/valle/madre-del-delito-mujer-que-integraba-banda-criminal-escondia-las-armas-en-el-coche-de-su-hijo', 'https://noticias.caracoltv.com/antioquia/ciudadanos-denuncian-calvario-para-poder-sacar-sus-vehiculos-de-los-patios-en-medellin', 'https://noticias.caracoltv.com/caribe/nino-de-12-anos-sufrio-graves-quemaduras-tras-la-caida-de-un-cable-en-barranquilla', 'https://noticias.caracoltv.com/valle/carcel-para-una-joven-que-asesino-a-una-mujer-durante-una-rina-entre-pandillas', 'https://noticias.caracoltv.com/antioquia/rescatan-a-trabajadores-que-habian-caido-a-un-abismo-en-el-tunel-del-toyo', 'https://noticias.caracoltv.com/mundo/encuentran-los-cuerpos-de-5-hermanitos-en-un-apartamento-y-la-mama-seria-la-responsable-del-crimen', 'https://noticias.caracoltv.com/mundo/como-malabarista-de-circo-arriesgo-su-vida-para-robar-cableado-electrico-y-termino-mal', 'https://noticias.caracoltv.com/mundo/reunion-entre-henrique-capriles-y-el-gobierno-de-maduro-molesto-a-guaido', 'https://noticias.caracoltv.com/mundo/prueba-indiscutible-confirman-que-alexei-navalny-duro-critico-de-vladimir-putin-fue-envenenado', 'https://noticias.caracoltv.com/mundo/ee-uu-se-la-juega-por-deportar-a-mancuso-a-colombia-estos-dos-sus-argumentos', 'https://noticias.caracoltv.com/mundo/esto-es-hermoso-papa-francisco-se-reencuentra-cara-a-cara-con-fieles-luego-de-6-meses', 'https://noticias.caracoltv.com/mundo/muere-joven-embarazada-en-atentado-contra-su-novio-mientras-ambos-dormian', 'https://noticias.caracoltv.com/mundo/se-le-dano-la-risa-a-grupo-de-payasos-que-despedia-con-fiesta-a-uno-de-sus-colegas', 'https://noticias.caracoltv.com/mundo/ee-uu-no-participara-en-plataforma-de-la-oms-para-distribuir-la-vacuna-del-coronavirus', 'https://noticias.caracoltv.com/mundo/muere-otro-hombre-afroamericano-a-manos-de-la-policia-en-ee-uu-denuncian-que-le-dieron-mas-de-20-tiros', 'https://noticias.caracoltv.com/salud/casos-de-coronavirus-colombia-2-de-septiembre', 'https://noticias.caracoltv.com/salud/desde-el-congreso-denuncian-manipulacion-de-cifras-para-aplanar-curva-del-covid-19', 'https://noticias.caracoltv.com/salud/heroica-labor-de-100-voluntarios-que-lucharon-contra-el-covid-en-varias-zonas-de-colombia', 'https://noticias.caracoltv.com/salud/casos-de-coronavirus-colombia-1-de-septiembre', 'https://noticias.caracoltv.com/salud/bacteriologa-contrajo-covid-19-en-abril-y-volvio-a-dar-positivo-en-julio-puede-ser-reinfeccion', 'https://noticias.caracoltv.com/salud/cuidado-gobierno-reconoce-que-con-nueva-normalidad-puede-haber-un-rebrote-del-coronavirus', 'https://noticias.caracoltv.com/salud/casos-de-coronavirus-colombia-31-de-agosto', 'https://noticias.caracoltv.com/salud/tiene-barba-ojo-a-estas-recomendaciones-a-la-hora-de-usar-tapabocas', 'https://noticias.caracoltv.com/salud/como-se-ve-afectado-el-olfato-por-el-coronavirus', 'https://noticias.caracoltv.com/salud/que-significa-el-rastreo-de-contactos-de-covid-19-y-por-que-es-tan-importante', 'https://noticias.caracoltv.com/entretenimiento/respuesta-de-shannon-de-lima-a-usuario-que-le-dijo-mantenida-de-james', 'https://noticias.caracoltv.com/entretenimiento/natalia-paris-sorprende-a-sus-seguidores-al-revelar-experiencia-paranormal', 'https://noticias.caracoltv.com/entretenimiento/una-experiencia-maravillosa-fernando-trueba-sobre-hacer-el-olvido-que-seremos-en-colombia', 'https://noticias.caracoltv.com/entretenimiento/dedicatoria-de-la-chilindrina-por-cumpleanos-de-don-ramon', 'https://noticias.caracoltv.com/entretenimiento/salir-de-la-pobreza-ni-siquiera-es-tener-dinero-vea-el-contundente-mensaje-que-envio-la-liendra', 'https://noticias.caracoltv.com/entretenimiento/el-dj-erick-morillo-muerto-en-extranas-circunstancias-enfrentaba-un-proceso-judicial-hace-un-mes', 'https://noticias.caracoltv.com/entretenimiento/bts-habla-de-su-exitosa-cancion-dynamite-y-envia-un-mensaje-a-los-army-de-todo-el-mundo', 'https://noticias.caracoltv.com/entretenimiento/sara-uribe-ensena-el-tatuaje-que-se-hizo-en-pareja', 'https://noticias.caracoltv.com/entretenimiento/elton-john-billie-eilish-y-ozzy-osbourne-donaron-valiosos-objetos-para-una-subasta-benefica', 'https://noticias.caracoltv.com/entretenimiento/jennifer-lopez-liderara-campana-para-que-las-mujeres-latinas-voten-en-elecciones-de-ee-uu']\n"
        }
      ]
    },
    {
      "cell_type": "code",
      "metadata": {
        "id": "N7TeuqLk-G-M",
        "colab_type": "code",
        "colab": {}
      },
      "source": [
        "import pandas as pd \n",
        "noticiasCaracol = pd.DataFrame(dictNoticias)\n",
        "noticiasCaracol\n",
        "\n",
        "noticiasCaracol.to_csv('noticiasCaracol.csv', index=False)"
      ],
      "execution_count": 11,
      "outputs": []
    },
    {
      "cell_type": "code",
      "execution_count": null,
      "metadata": {},
      "outputs": [],
      "source": []
    }
  ]
}