{
  "nbformat": 4,
  "nbformat_minor": 0,
  "metadata": {
    "colab": {
      "name": "quiz2.ipynb",
      "provenance": [],
      "collapsed_sections": [],
      "toc_visible": true
    },
    "kernelspec": {
      "name": "python3",
      "display_name": "Python 3"
    }
  },
  "cells": [
    {
      "cell_type": "markdown",
      "metadata": {
        "id": "ijNaWmHg8aPs",
        "colab_type": "text"
      },
      "source": [
        "#PUNTO 1"
      ]
    },
    {
      "cell_type": "code",
      "metadata": {
        "id": "KNDHOF-27qFr",
        "colab_type": "code",
        "colab": {}
      },
      "source": [
        "import random  as r\n",
        "import time\n",
        "\n",
        "def crear_lista():\n",
        "    size_list= int (input(\"ingrese el tamaño de la lista : \"))\n",
        "    lista  = [r.randint(300,1230) for i in range (size_list)]\n",
        "\n",
        "    return lista\n",
        "\n",
        "def ordenamiento_burbuja(lista):\n",
        "    size = len (lista)\n",
        "    for i in range (size):\n",
        "        for j in range (0, size-i -1):\n",
        "            if lista [j]> lista[j+1]:\n",
        "                lista[j],lista[j+1] = lista[j+1],lista[j]\n",
        "    return lista\n",
        "\n",
        "def ordenamiento_por_insercion(lista):\n",
        "\n",
        "    for indice in range(1, len(lista)):\n",
        "        valor_actual = lista[indice]\n",
        "        posicion_actual = indice\n",
        "        while posicion_actual > 0 and lista[posicion_actual - 1] > valor_actual:\n",
        "            lista[posicion_actual] = lista[posicion_actual - 1]\n",
        "            posicion_actual -= 1\n",
        "        lista[posicion_actual] = valor_actual\n",
        "    return lista\n",
        "\n",
        "def ord_por_mezcla(lista):\n",
        "    if len(lista) > 1:\n",
        "        medio = len(lista) // 2\n",
        "        izquierda = lista[:medio]\n",
        "        derecha = lista[medio:]\n",
        "\n",
        "        izquierda = ord_por_mezcla(izquierda)\n",
        "        derecha = ord_por_mezcla(derecha)\n",
        "\n",
        "        i = 0\n",
        "        j = 0\n",
        "\n",
        "        k = 0\n",
        "\n",
        "        while i< len(izquierda) and j < len(derecha): \n",
        "            if izquierda[i] < derecha[j]:\n",
        "                lista[k] = izquierda[i]\n",
        "                i += 1\n",
        "            else:\n",
        "                lista[k] = derecha[j]\n",
        "                j += 1\n",
        "            k+= 1\n",
        "        while i < len(izquierda):\n",
        "            lista[k] = izquierda[i]\n",
        "            i+=1\n",
        "            k += 1\n",
        "        while j < len(derecha):\n",
        "            lista[k] = derecha[j]\n",
        "            j += 1\n",
        "            k += 1\n",
        "        \n",
        "\n",
        "    return lista"
      ],
      "execution_count": 12,
      "outputs": []
    },
    {
      "cell_type": "code",
      "metadata": {
        "id": "YAIZl4s077_G",
        "colab_type": "code",
        "colab": {
          "base_uri": "https://localhost:8080/",
          "height": 51
        },
        "outputId": "353de9f5-c040-4d6c-d183-e4f8ceaabdb4",
        "tags": []
      },
      "source": [
        "lista = crear_lista()\n",
        "print(lista)"
      ],
      "execution_count": 13,
      "outputs": [
        {
          "output_type": "stream",
          "name": "stdout",
          "text": "[1101, 554, 747, 1224, 1027, 668, 1045, 1069, 1205, 668, 1210, 1155, 773, 1087, 666, 1058, 416, 1164, 903, 1046, 819, 422, 687, 389, 323, 1204, 1031, 870, 366, 1230, 1010, 851, 884, 1033, 1072, 892, 778, 460, 789, 980, 500, 1218, 1193, 385, 1143, 739, 525, 461, 346, 879, 1013, 727, 502, 320, 598, 826, 781, 679, 351, 1009, 564, 1092, 1106, 1063, 398, 593, 366, 750, 986, 1081, 974, 376, 468, 429, 750, 1197, 564, 679, 1143, 848, 381, 780, 339, 499, 606, 763, 805, 700, 906, 943, 892, 942, 505, 955, 809, 312, 993, 555, 754, 1106, 543, 1024, 497, 952, 769, 651, 1129, 357, 622, 452, 811, 496, 959, 605, 999, 723, 904, 871, 1158, 854, 1227, 416, 748, 616, 1091, 1226, 887, 345, 375, 950, 1187, 792, 879, 1119, 697, 475, 711, 739, 460, 572, 378, 640, 449, 496, 832, 524, 690, 1057, 684, 425, 855, 416, 371, 514, 747, 1048, 347, 622, 1032, 384, 798, 852, 695, 964, 988, 778, 1141, 326, 375, 1090, 342, 1068, 767, 323, 435, 1046, 788, 533, 1148, 506, 460, 903, 814, 742, 1109, 400, 1157, 373, 754, 639, 1028, 795, 759, 832, 948, 584, 1044, 437, 1085, 307, 450, 503, 559, 543, 569, 971, 1090, 657, 1093, 1208, 411, 334, 921, 709, 572, 1157, 707, 662, 335, 568, 887, 1224, 417, 1164, 1071, 394, 1156, 996, 679, 972, 708, 745, 409, 900, 552, 321, 1159, 904, 932, 366, 521, 560, 574, 426, 1159, 522, 943, 686, 1134, 1182, 310, 513, 800, 855, 604, 577, 865, 875, 975, 322, 683, 525, 646, 345, 423, 1051, 1106, 809, 513, 724, 1118, 1058, 883, 812, 934, 1056, 1030, 744, 1129, 803, 546, 332, 793, 801, 418, 609, 976, 366, 1054, 344, 1115, 1039, 962, 1037, 884, 860, 708, 1002, 680, 836, 1000, 431, 567, 920, 979, 550, 1053, 1188, 947, 1163, 603, 655, 910, 659, 424, 976, 368, 488, 536, 573, 432, 619, 802, 1159, 776, 776, 843, 760, 322, 1131, 606, 460, 348, 486, 789, 615, 1197, 1017, 627, 1106, 351, 1179, 414, 324, 946, 492, 575, 1127, 985, 513, 998, 357, 846, 331, 969, 1027, 379, 1216, 734, 312, 409, 425, 955, 361, 618, 778, 346, 536, 946, 358, 691, 995, 1228, 450, 599, 1152, 1055, 556, 420, 772, 1100, 869, 618, 377, 753, 712, 766, 615, 1123, 337, 1228, 490, 464, 1102, 958, 870, 1172, 830, 591, 682, 660, 609, 466, 914, 743, 556, 1044, 461, 914, 618, 990, 852, 811, 882, 865, 1228, 1170, 448, 1177, 870, 466, 518, 889, 331, 1199, 1174, 796, 1101, 843, 923, 366, 623, 1116, 413, 1116, 685, 516, 881, 401, 543, 1199, 996, 1132, 564, 1115, 759, 667, 456, 781, 1069, 808, 711, 683, 1035, 1073, 593, 1144, 781, 458, 1071, 753, 477, 617, 834, 893, 980, 356, 954, 471, 1220, 323, 1206, 1047, 404, 1208, 1153, 747, 634, 1053, 1074, 329, 637, 495, 474, 857, 870, 1209, 1017, 370, 770, 625, 1052, 625, 1104, 504, 1173, 779, 506, 938, 1066]\n"
        }
      ]
    },
    {
      "cell_type": "code",
      "metadata": {
        "id": "bUvLsScY8JUz",
        "colab_type": "code",
        "colab": {
          "base_uri": "https://localhost:8080/",
          "height": 51
        },
        "outputId": "e1d80ef6-8541-4dd3-fe53-d4514a86b78a",
        "tags": []
      },
      "source": [
        "inicial_burbuja = time.time()\n",
        "lista_ordenada_burbuja = ordenamiento_burbuja(lista)\n",
        "final_burbuja = time.time()\n",
        "print(lista_ordenada_burbuja)\n",
        "print(\"Tiempo ordenamianto burbuja:\", final_burbuja-inicial_burbuja)"
      ],
      "execution_count": 14,
      "outputs": [
        {
          "output_type": "stream",
          "name": "stdout",
          "text": "[307, 310, 312, 312, 320, 321, 322, 322, 323, 323, 323, 324, 326, 329, 331, 331, 332, 334, 335, 337, 339, 342, 344, 345, 345, 346, 346, 347, 348, 351, 351, 356, 357, 357, 358, 361, 366, 366, 366, 366, 366, 368, 370, 371, 373, 375, 375, 376, 377, 378, 379, 381, 384, 385, 389, 394, 398, 400, 401, 404, 409, 409, 411, 413, 414, 416, 416, 416, 417, 418, 420, 422, 423, 424, 425, 425, 426, 429, 431, 432, 435, 437, 448, 449, 450, 450, 452, 456, 458, 460, 460, 460, 460, 461, 461, 464, 466, 466, 468, 471, 474, 475, 477, 486, 488, 490, 492, 495, 496, 496, 497, 499, 500, 502, 503, 504, 505, 506, 506, 513, 513, 513, 514, 516, 518, 521, 522, 524, 525, 525, 533, 536, 536, 543, 543, 543, 546, 550, 552, 554, 555, 556, 556, 559, 560, 564, 564, 564, 567, 568, 569, 572, 572, 573, 574, 575, 577, 584, 591, 593, 593, 598, 599, 603, 604, 605, 606, 606, 609, 609, 615, 615, 616, 617, 618, 618, 618, 619, 622, 622, 623, 625, 625, 627, 634, 637, 639, 640, 646, 651, 655, 657, 659, 660, 662, 666, 667, 668, 668, 679, 679, 679, 680, 682, 683, 683, 684, 685, 686, 687, 690, 691, 695, 697, 700, 707, 708, 708, 709, 711, 711, 712, 723, 724, 727, 734, 739, 739, 742, 743, 744, 745, 747, 747, 747, 748, 750, 750, 753, 753, 754, 754, 759, 759, 760, 763, 766, 767, 769, 770, 772, 773, 776, 776, 778, 778, 778, 779, 780, 781, 781, 781, 788, 789, 789, 792, 793, 795, 796, 798, 800, 801, 802, 803, 805, 808, 809, 809, 811, 811, 812, 814, 819, 826, 830, 832, 832, 834, 836, 843, 843, 846, 848, 851, 852, 852, 854, 855, 855, 857, 860, 865, 865, 869, 870, 870, 870, 870, 871, 875, 879, 879, 881, 882, 883, 884, 884, 887, 887, 889, 892, 892, 893, 900, 903, 903, 904, 904, 906, 910, 914, 914, 920, 921, 923, 932, 934, 938, 942, 943, 943, 946, 946, 947, 948, 950, 952, 954, 955, 955, 958, 959, 962, 964, 969, 971, 972, 974, 975, 976, 976, 979, 980, 980, 985, 986, 988, 990, 993, 995, 996, 996, 998, 999, 1000, 1002, 1009, 1010, 1013, 1017, 1017, 1024, 1027, 1027, 1028, 1030, 1031, 1032, 1033, 1035, 1037, 1039, 1044, 1044, 1045, 1046, 1046, 1047, 1048, 1051, 1052, 1053, 1053, 1054, 1055, 1056, 1057, 1058, 1058, 1063, 1066, 1068, 1069, 1069, 1071, 1071, 1072, 1073, 1074, 1081, 1085, 1087, 1090, 1090, 1091, 1092, 1093, 1100, 1101, 1101, 1102, 1104, 1106, 1106, 1106, 1106, 1109, 1115, 1115, 1116, 1116, 1118, 1119, 1123, 1127, 1129, 1129, 1131, 1132, 1134, 1141, 1143, 1143, 1144, 1148, 1152, 1153, 1155, 1156, 1157, 1157, 1158, 1159, 1159, 1159, 1163, 1164, 1164, 1170, 1172, 1173, 1174, 1177, 1179, 1182, 1187, 1188, 1193, 1197, 1197, 1199, 1199, 1204, 1205, 1206, 1208, 1208, 1209, 1210, 1216, 1218, 1220, 1224, 1224, 1226, 1227, 1228, 1228, 1228, 1230]\nTiempo ordenamianto burbuja: 0.050424814224243164\n"
        }
      ]
    },
    {
      "cell_type": "code",
      "metadata": {
        "id": "K4AWGHeY8Nh0",
        "colab_type": "code",
        "colab": {
          "base_uri": "https://localhost:8080/",
          "height": 51
        },
        "outputId": "99e09db1-8703-4391-9f0f-9c8083af7860",
        "tags": []
      },
      "source": [
        "inicial_insercion = time.time()\n",
        "lista_ordenada_insercion = ordenamiento_por_insercion(lista)\n",
        "final_insercion = time.time()\n",
        "print(lista_ordenada_insercion)\n",
        "print(\"Tiempo ordenamiento por inserción:\", final_insercion-inicial_insercion)"
      ],
      "execution_count": 15,
      "outputs": [
        {
          "output_type": "stream",
          "name": "stdout",
          "text": "[307, 310, 312, 312, 320, 321, 322, 322, 323, 323, 323, 324, 326, 329, 331, 331, 332, 334, 335, 337, 339, 342, 344, 345, 345, 346, 346, 347, 348, 351, 351, 356, 357, 357, 358, 361, 366, 366, 366, 366, 366, 368, 370, 371, 373, 375, 375, 376, 377, 378, 379, 381, 384, 385, 389, 394, 398, 400, 401, 404, 409, 409, 411, 413, 414, 416, 416, 416, 417, 418, 420, 422, 423, 424, 425, 425, 426, 429, 431, 432, 435, 437, 448, 449, 450, 450, 452, 456, 458, 460, 460, 460, 460, 461, 461, 464, 466, 466, 468, 471, 474, 475, 477, 486, 488, 490, 492, 495, 496, 496, 497, 499, 500, 502, 503, 504, 505, 506, 506, 513, 513, 513, 514, 516, 518, 521, 522, 524, 525, 525, 533, 536, 536, 543, 543, 543, 546, 550, 552, 554, 555, 556, 556, 559, 560, 564, 564, 564, 567, 568, 569, 572, 572, 573, 574, 575, 577, 584, 591, 593, 593, 598, 599, 603, 604, 605, 606, 606, 609, 609, 615, 615, 616, 617, 618, 618, 618, 619, 622, 622, 623, 625, 625, 627, 634, 637, 639, 640, 646, 651, 655, 657, 659, 660, 662, 666, 667, 668, 668, 679, 679, 679, 680, 682, 683, 683, 684, 685, 686, 687, 690, 691, 695, 697, 700, 707, 708, 708, 709, 711, 711, 712, 723, 724, 727, 734, 739, 739, 742, 743, 744, 745, 747, 747, 747, 748, 750, 750, 753, 753, 754, 754, 759, 759, 760, 763, 766, 767, 769, 770, 772, 773, 776, 776, 778, 778, 778, 779, 780, 781, 781, 781, 788, 789, 789, 792, 793, 795, 796, 798, 800, 801, 802, 803, 805, 808, 809, 809, 811, 811, 812, 814, 819, 826, 830, 832, 832, 834, 836, 843, 843, 846, 848, 851, 852, 852, 854, 855, 855, 857, 860, 865, 865, 869, 870, 870, 870, 870, 871, 875, 879, 879, 881, 882, 883, 884, 884, 887, 887, 889, 892, 892, 893, 900, 903, 903, 904, 904, 906, 910, 914, 914, 920, 921, 923, 932, 934, 938, 942, 943, 943, 946, 946, 947, 948, 950, 952, 954, 955, 955, 958, 959, 962, 964, 969, 971, 972, 974, 975, 976, 976, 979, 980, 980, 985, 986, 988, 990, 993, 995, 996, 996, 998, 999, 1000, 1002, 1009, 1010, 1013, 1017, 1017, 1024, 1027, 1027, 1028, 1030, 1031, 1032, 1033, 1035, 1037, 1039, 1044, 1044, 1045, 1046, 1046, 1047, 1048, 1051, 1052, 1053, 1053, 1054, 1055, 1056, 1057, 1058, 1058, 1063, 1066, 1068, 1069, 1069, 1071, 1071, 1072, 1073, 1074, 1081, 1085, 1087, 1090, 1090, 1091, 1092, 1093, 1100, 1101, 1101, 1102, 1104, 1106, 1106, 1106, 1106, 1109, 1115, 1115, 1116, 1116, 1118, 1119, 1123, 1127, 1129, 1129, 1131, 1132, 1134, 1141, 1143, 1143, 1144, 1148, 1152, 1153, 1155, 1156, 1157, 1157, 1158, 1159, 1159, 1159, 1163, 1164, 1164, 1170, 1172, 1173, 1174, 1177, 1179, 1182, 1187, 1188, 1193, 1197, 1197, 1199, 1199, 1204, 1205, 1206, 1208, 1208, 1209, 1210, 1216, 1218, 1220, 1224, 1224, 1226, 1227, 1228, 1228, 1228, 1230]\nTiempo ordenamiento por inserción: 0.0\n"
        }
      ]
    },
    {
      "cell_type": "code",
      "metadata": {
        "id": "bXN0avye8S68",
        "colab_type": "code",
        "colab": {
          "base_uri": "https://localhost:8080/",
          "height": 51
        },
        "outputId": "7bce1f65-8a9e-4939-da84-ea8199de46bb",
        "tags": []
      },
      "source": [
        "inicial_mezcla = time.time()\n",
        "lista_ordenada_mezcla = ord_por_mezcla(lista)\n",
        "final_mezcla = time.time()\n",
        "print(lista_ordenada_mezcla)\n",
        "print(\"Tiempo ordenamiento por mezcla:\", final_mezcla-inicial_mezcla)"
      ],
      "execution_count": 16,
      "outputs": [
        {
          "output_type": "stream",
          "name": "stdout",
          "text": "[307, 310, 312, 312, 320, 321, 322, 322, 323, 323, 323, 324, 326, 329, 331, 331, 332, 334, 335, 337, 339, 342, 344, 345, 345, 346, 346, 347, 348, 351, 351, 356, 357, 357, 358, 361, 366, 366, 366, 366, 366, 368, 370, 371, 373, 375, 375, 376, 377, 378, 379, 381, 384, 385, 389, 394, 398, 400, 401, 404, 409, 409, 411, 413, 414, 416, 416, 416, 417, 418, 420, 422, 423, 424, 425, 425, 426, 429, 431, 432, 435, 437, 448, 449, 450, 450, 452, 456, 458, 460, 460, 460, 460, 461, 461, 464, 466, 466, 468, 471, 474, 475, 477, 486, 488, 490, 492, 495, 496, 496, 497, 499, 500, 502, 503, 504, 505, 506, 506, 513, 513, 513, 514, 516, 518, 521, 522, 524, 525, 525, 533, 536, 536, 543, 543, 543, 546, 550, 552, 554, 555, 556, 556, 559, 560, 564, 564, 564, 567, 568, 569, 572, 572, 573, 574, 575, 577, 584, 591, 593, 593, 598, 599, 603, 604, 605, 606, 606, 609, 609, 615, 615, 616, 617, 618, 618, 618, 619, 622, 622, 623, 625, 625, 627, 634, 637, 639, 640, 646, 651, 655, 657, 659, 660, 662, 666, 667, 668, 668, 679, 679, 679, 680, 682, 683, 683, 684, 685, 686, 687, 690, 691, 695, 697, 700, 707, 708, 708, 709, 711, 711, 712, 723, 724, 727, 734, 739, 739, 742, 743, 744, 745, 747, 747, 747, 748, 750, 750, 753, 753, 754, 754, 759, 759, 760, 763, 766, 767, 769, 770, 772, 773, 776, 776, 778, 778, 778, 779, 780, 781, 781, 781, 788, 789, 789, 792, 793, 795, 796, 798, 800, 801, 802, 803, 805, 808, 809, 809, 811, 811, 812, 814, 819, 826, 830, 832, 832, 834, 836, 843, 843, 846, 848, 851, 852, 852, 854, 855, 855, 857, 860, 865, 865, 869, 870, 870, 870, 870, 871, 875, 879, 879, 881, 882, 883, 884, 884, 887, 887, 889, 892, 892, 893, 900, 903, 903, 904, 904, 906, 910, 914, 914, 920, 921, 923, 932, 934, 938, 942, 943, 943, 946, 946, 947, 948, 950, 952, 954, 955, 955, 958, 959, 962, 964, 969, 971, 972, 974, 975, 976, 976, 979, 980, 980, 985, 986, 988, 990, 993, 995, 996, 996, 998, 999, 1000, 1002, 1009, 1010, 1013, 1017, 1017, 1024, 1027, 1027, 1028, 1030, 1031, 1032, 1033, 1035, 1037, 1039, 1044, 1044, 1045, 1046, 1046, 1047, 1048, 1051, 1052, 1053, 1053, 1054, 1055, 1056, 1057, 1058, 1058, 1063, 1066, 1068, 1069, 1069, 1071, 1071, 1072, 1073, 1074, 1081, 1085, 1087, 1090, 1090, 1091, 1092, 1093, 1100, 1101, 1101, 1102, 1104, 1106, 1106, 1106, 1106, 1109, 1115, 1115, 1116, 1116, 1118, 1119, 1123, 1127, 1129, 1129, 1131, 1132, 1134, 1141, 1143, 1143, 1144, 1148, 1152, 1153, 1155, 1156, 1157, 1157, 1158, 1159, 1159, 1159, 1163, 1164, 1164, 1170, 1172, 1173, 1174, 1177, 1179, 1182, 1187, 1188, 1193, 1197, 1197, 1199, 1199, 1204, 1205, 1206, 1208, 1208, 1209, 1210, 1216, 1218, 1220, 1224, 1224, 1226, 1227, 1228, 1228, 1228, 1230]\nTiempo ordenamiento por mezcla: 0.003000020980834961\n"
        }
      ]
    },
    {
      "cell_type": "markdown",
      "metadata": {
        "id": "O5s8rLkZ8j8z",
        "colab_type": "text"
      },
      "source": [
        "#PUNTO 2"
      ]
    },
    {
      "cell_type": "code",
      "metadata": {
        "id": "kDQjm6Ex8pC7",
        "colab_type": "code",
        "colab": {
          "base_uri": "https://localhost:8080/",
          "height": 34
        },
        "outputId": "efe903c5-8476-4981-d7d1-beb912196846",
        "tags": []
      },
      "source": [
        "import requests\n",
        "import bs4\n",
        "\n",
        "url = \"https://noticias.caracoltv.com/\"\n",
        "\n",
        "response = requests.get(url)\n",
        "print(response)"
      ],
      "execution_count": 6,
      "outputs": [
        {
          "output_type": "stream",
          "name": "stdout",
          "text": "<Response [200]>\n"
        }
      ]
    },
    {
      "cell_type": "code",
      "metadata": {
        "id": "2z_v3q1Y867b",
        "colab_type": "code",
        "colab": {
          "base_uri": "https://localhost:8080/",
          "height": 71
        },
        "outputId": "184a8985-ee5e-48e2-aa0a-99337032ddcd",
        "tags": []
      },
      "source": [
        "completo = bs4.BeautifulSoup(response.text,'html.parser')\n",
        "noticias = completo.select(\".PromoB-title a\")\n",
        "print (noticias)"
      ],
      "execution_count": 8,
      "outputs": [
        {
          "output_type": "stream",
          "name": "stdout",
          "text": "[<a class=\"Link\" data-cms-ai=\"0\" href=\"https://noticias.caracoltv.com/economia/por-fin-vera-la-luz-el-tunel-de-la-linea-empieza-a-funcionar-este-4-de-septiembre\">¡Por fin verá la luz! El túnel de La Línea empieza a funcionar este 4 de septiembre </a>, <a class=\"Link\" data-cms-ai=\"0\" href=\"https://noticias.caracoltv.com/caribe/acordeonero-que-le-canto-a-la-pandemia-y-sobrevivio-al-covid-perdio-la-batalla-contra-otro-enemigo\">Acordeonero que le cantó a la pandemia y sobrevivió al COVID perdió la batalla contra otro enemigo</a>, <a class=\"Link\" data-cms-ai=\"0\" href=\"https://noticias.caracoltv.com/el-periodista-soy-yo/bus-del-sitp-repleto-de-pasajeros-una-imagen-que-preocupa-en-bogota\">Bus del SITP repleto de pasajeros: una imagen que preocupa en Bogotá </a>, <a class=\"Link\" data-cms-ai=\"0\" href=\"https://noticias.caracoltv.com/antioquia/tutela-dice-que-el-cartel-de-medellin-lo-creo-el-clero-ruso-ortodoxo\">Niegan insólita tutela a mujer que dice que el cartel de Medellín lo creó el “Clero Ruso Ortodoxo”</a>, <a class=\"Link\" data-cms-ai=\"0\" href=\"https://noticias.caracoltv.com/mundo/bebe-milagro-su-mama-murio-tras-ser-arrollada-por-conductora-ebria\">La historia de una ‘bebé milagro’: su mamá murió tras ser arrollada por conductora ebria </a>, <a class=\"Link\" data-cms-ai=\"0\" href=\"https://noticias.caracoltv.com/politica/derrotamos-al-gobierno-se-cayo-el-mico-de-la-ley-de-regalias-que-daba-luz-verde-al-fracking\">\"Derrotamos al gobierno\": se cayó el 'mico' de la ley de regalías que daba luz verde al fracking  </a>, <a class=\"Link\" data-cms-ai=\"0\" href=\"https://noticias.caracoltv.com/tour-de-francia/ciclismo-egan-bernal-envio-un-mensaje-tras-la-etapa-6-del-tour-de-francia-hay-que-tener-paciencia\">Egan Bernal envió un mensaje tras la etapa 6 del Tour de Francia: “hay que tener paciencia”</a>, <a class=\"Link\" data-cms-ai=\"0\" href=\"https://noticias.caracoltv.com/tour-de-francia/el-debut-en-el-tour-de-francia-todavia-no-le-sonrie-a-dayer-quintana-volvio-a-caerse-en-la-etapa-6\">El debut en el Tour de Francia todavía no le sonríe a Dayer Quintana: volvió a caerse en la etapa 6 </a>, <a class=\"Link\" data-cms-ai=\"0\" href=\"https://noticias.caracoltv.com/tour-de-francia/ciclista-por-que-ningun-ciclista-se-atreve-a-lanzar-un-ataque-en-la-montana-del-tour-de-francia\">¿Por qué ningún ciclista se atreve a lanzar un ataque en la montaña del Tour de Francia? </a>, <a class=\"Link\" data-cms-ai=\"0\" href=\"https://noticias.caracoltv.com/salud/canada-sugiere-saltarse-los-besos-y-usar-tapabocas-durante-el-sexo-en-tiempo-de-coronavirus\">Canadá sugiere \"saltarse\" los besos y usar tapabocas durante el sexo en tiempo de coronavirus</a>, <a class=\"Link\" data-cms-ai=\"0\" href=\"https://noticias.caracoltv.com/mundo/india-supero-sus-propias-cifras-record-de-contagios-diarios-con-covid-19\">India superó sus propias cifras récord de contagios diarios con COVID-19 </a>, <a class=\"Link\" data-cms-ai=\"0\" href=\"https://noticias.caracoltv.com/salud/colombia-hara-estudio-para-medir-el-dano-causado-por-el-covid-19\">Colombia hará estudio para medir el daño causado por el COVID-19 </a>, <a class=\"Link\" data-cms-ai=\"0\" href=\"https://noticias.caracoltv.com/valle/vuelve-la-rumba-y-cali-lo-sabe-asi-sera-aguaelulo-que-reactiva-este-sector-en-la-ciudad\">Vuelve la rumba y Cali lo sabe: así será ‘aguae'lulo’ que reactiva este sector en la ciudad </a>, <a class=\"Link\" data-cms-ai=\"0\" href=\"https://noticias.caracoltv.com/salud/el-93-de-proyectos-de-vacunas-no-llegan-a-la-fase-iii-minsalud-pide-optimismo-moderado\">El 93% de proyectos de vacunas no llegan a la fase III: Minsalud pide “optimismo moderado” </a>, <a class=\"Link\" data-cms-ai=\"0\" href=\"https://noticias.caracoltv.com/entretenimiento/la-roca-revelo-que-el-y-su-familia-tuvieron-coronavirus\">La Roca reveló que él y su familia tuvieron coronavirus</a>, <a class=\"Link\" data-cms-ai=\"0\" href=\"https://noticias.caracoltv.com/salud/vacuna-contra-covid-19-no-estaria-antes-del-primer-semestre-de-2021-minsalud\">Vacuna contra COVID-19 no estaría antes del primer semestre de 2021: Minsalud</a>, <a class=\"Link\" data-cms-ai=\"0\" href=\"https://noticias.caracoltv.com/antioquia/mi-bebe-es-muy-pequeno-y-no-le-puedo-faltar-danna-garcia-habla-de-la-muerte-tras-el-covid-19\">“Mi bebé es muy pequeño y no le puedo faltar”: Danna García habla de la muerte tras el COVID-19</a>, <a class=\"Link\" data-cms-ai=\"0\" href=\"https://noticias.caracoltv.com/mundo/si-lees-esto-estoy-muerto-lo-que-escribio-joven-antes-de-ser-alcanzado-por-un-violador\">“Si lees esto, estoy muerto”: lo que escribió joven antes de ser alcanzado por un violador</a>, <a class=\"Link\" data-cms-ai=\"0\" href=\"https://noticias.caracoltv.com/antioquia/ladron-huyo-al-ver-que-su-complice-fue-herido-de-muerte-por-un-escolta-en-el-sur-de-medellin\">Ladrón huyó al ver que su cómplice fue herido de muerte por un escolta en el sur de Medellín</a>, <a class=\"Link\" data-cms-ai=\"0\" href=\"https://noticias.caracoltv.com/antioquia/preparese-para-ver-mas-gente-en-el-metro-autorizaron-ampliar-su-capacidad-de-ocupacion\">Prepárese para ver más gente en el Metro: autorizaron ampliar su capacidad de ocupación</a>, <a class=\"Link\" data-cms-ai=\"0\" href=\"https://noticias.caracoltv.com/valle/por-una-afeccion-respiratoria-clara-luz-roldan-fue-internada-en-una-clinica-de-cali\">Por una “afección respiratoria”, Clara Luz Roldán fue internada en una clínica de Cali</a>, <a class=\"Link\" data-cms-ai=\"0\" href=\"https://noticias.caracoltv.com/caribe/heroicos-policias-salvaron-a-mujer-que-estaba-a-punto-de-lanzarse-desde-un-puente-en-magdalena\">Heroicos policías salvaron a mujer que estaba a punto de lanzarse desde un puente en Magdalena</a>, <a class=\"Link\" data-cms-ai=\"0\" href=\"https://noticias.caracoltv.com/valle/madre-del-delito-mujer-que-integraba-banda-criminal-escondia-las-armas-en-el-coche-de-su-hijo\">Madre del delito: mujer que integraba banda criminal escondía las armas en el coche de su hijo </a>, <a class=\"Link\" data-cms-ai=\"0\" href=\"https://noticias.caracoltv.com/antioquia/ciudadanos-denuncian-calvario-para-poder-sacar-sus-vehiculos-de-los-patios-en-medellin\">Ciudadanos denuncian calvario para poder sacar sus vehículos de los patios en Medellín</a>, <a class=\"Link\" data-cms-ai=\"0\" href=\"https://noticias.caracoltv.com/caribe/nino-de-12-anos-sufrio-graves-quemaduras-tras-la-caida-de-un-cable-en-barranquilla\">Niño de 12 años sufrió graves quemaduras tras la caída de un cable en Barranquilla </a>, <a class=\"Link\" data-cms-ai=\"0\" href=\"https://noticias.caracoltv.com/valle/carcel-para-una-joven-que-asesino-a-una-mujer-durante-una-rina-entre-pandillas\">Cárcel para una joven que asesinó a una mujer durante una riña entre pandillas </a>, <a class=\"Link\" data-cms-ai=\"0\" href=\"https://noticias.caracoltv.com/antioquia/rescatan-a-trabajadores-que-habian-caido-a-un-abismo-en-el-tunel-del-toyo\">Rescatan a trabajadores que habían caído a un abismo en el Túnel del Toyo</a>, <a class=\"Link\" data-cms-ai=\"0\" href=\"https://noticias.caracoltv.com/mundo/encuentran-los-cuerpos-de-5-hermanitos-en-un-apartamento-y-la-mama-seria-la-responsable-del-crimen\">Encuentran los cuerpos de 5 hermanitos en un apartamento y la mamá sería la responsable del crimen</a>, <a class=\"Link\" data-cms-ai=\"0\" href=\"https://noticias.caracoltv.com/mundo/como-malabarista-de-circo-arriesgo-su-vida-para-robar-cableado-electrico-y-termino-mal\">Como malabarista de circo: arriesgó su vida para robar cableado eléctrico a 10 metros de altura</a>, <a class=\"Link\" data-cms-ai=\"0\" href=\"https://noticias.caracoltv.com/mundo/reunion-entre-henrique-capriles-y-el-gobierno-de-maduro-molesto-a-guaido\">Reunión entre Henrique Capriles y el gobierno de Maduro molestó a Guaidó  </a>, <a class=\"Link\" data-cms-ai=\"0\" href=\"https://noticias.caracoltv.com/mundo/prueba-indiscutible-confirman-que-alexei-navalny-duro-critico-de-vladimir-putin-fue-envenenado\">“Prueba indiscutible”: confirman que Alexei Navalny, duro crítico de Vladimir Putin, fue envenenado </a>, <a class=\"Link\" data-cms-ai=\"0\" href=\"https://noticias.caracoltv.com/mundo/ee-uu-se-la-juega-por-deportar-a-mancuso-a-colombia-estos-dos-sus-argumentos\">EE. UU. se la juega por deportar a Mancuso a Colombia: estos son sus argumentos  </a>, <a class=\"Link\" data-cms-ai=\"0\" href=\"https://noticias.caracoltv.com/mundo/esto-es-hermoso-papa-francisco-se-reencuentra-cara-a-cara-con-fieles-luego-de-6-meses\">“Esto es hermoso”: papa Francisco se reencuentra cara a cara con fieles luego de 6 meses</a>, <a class=\"Link\" data-cms-ai=\"0\" href=\"https://noticias.caracoltv.com/mundo/muere-joven-embarazada-en-atentado-contra-su-novio-mientras-ambos-dormian\">Muere joven embarazada en atentado contra su novio mientras ambos dormían</a>, <a class=\"Link\" data-cms-ai=\"0\" href=\"https://noticias.caracoltv.com/mundo/se-le-dano-la-risa-a-grupo-de-payasos-que-despedia-con-fiesta-a-uno-de-sus-colegas\">Se les dañó la risa a payasos que despedían con fiesta a uno de sus colegas</a>, <a class=\"Link\" data-cms-ai=\"0\" href=\"https://noticias.caracoltv.com/mundo/ee-uu-no-participara-en-plataforma-de-la-oms-para-distribuir-la-vacuna-del-coronavirus\">EE. UU. no participará en plataforma de la OMS para distribuir la vacuna del coronavirus </a>, <a class=\"Link\" data-cms-ai=\"0\" href=\"https://noticias.caracoltv.com/mundo/muere-otro-hombre-afroamericano-a-manos-de-la-policia-en-ee-uu-denuncian-que-le-dieron-mas-de-20-tiros\">Muere otro afroamericano a manos de la Policía en EE. UU.: denuncian que le dieron más de 20 tiros</a>, <a class=\"Link\" data-cms-ai=\"0\" href=\"https://noticias.caracoltv.com/salud/casos-de-coronavirus-colombia-2-de-septiembre\">Coronavirus cobró la vida de otros 296 colombianos: han muerto 20.348</a>, <a class=\"Link\" data-cms-ai=\"0\" href=\"https://noticias.caracoltv.com/salud/desde-el-congreso-denuncian-manipulacion-de-cifras-para-aplanar-curva-del-covid-19\">Desde el Congreso denuncian manipulación de cifras para aplanar curva del COVID-19 </a>, <a class=\"Link\" data-cms-ai=\"0\" href=\"https://noticias.caracoltv.com/salud/heroica-labor-de-100-voluntarios-que-lucharon-contra-el-covid-en-varias-zonas-de-colombia\">Heroica labor de 100 voluntarios que lucharon contra el COVID en varias zonas de Colombia</a>, <a class=\"Link\" data-cms-ai=\"0\" href=\"https://noticias.caracoltv.com/salud/casos-de-coronavirus-colombia-1-de-septiembre\">Colombia supera los 20 mil muertos por coronavirus, justo el día que empieza la \"nueva realidad\"</a>, <a class=\"Link\" data-cms-ai=\"0\" href=\"https://noticias.caracoltv.com/salud/bacteriologa-contrajo-covid-19-en-abril-y-volvio-a-dar-positivo-en-julio-puede-ser-reinfeccion\">Bacterióloga contrajo COVID-19 en abril y volvió a dar positivo en julio: ¿puede ser reinfección? </a>, <a class=\"Link\" data-cms-ai=\"0\" href=\"https://noticias.caracoltv.com/salud/cuidado-gobierno-reconoce-que-con-nueva-normalidad-puede-haber-un-rebrote-del-coronavirus\">¡Cuidado! Gobierno reconoce que con nueva normalidad puede haber un rebrote del coronavirus \n </a>, <a class=\"Link\" data-cms-ai=\"0\" href=\"https://noticias.caracoltv.com/salud/casos-de-coronavirus-colombia-31-de-agosto\">Colombia se acerca a las 20.000 muertes por COVID-19 al registrar 299 en el último reporte</a>, <a class=\"Link\" data-cms-ai=\"0\" href=\"https://noticias.caracoltv.com/salud/tiene-barba-ojo-a-estas-recomendaciones-a-la-hora-de-usar-tapabocas\">¿Tiene barba? Ojo a estas recomendaciones a la hora de usar tapabocas</a>, <a class=\"Link\" data-cms-ai=\"0\" href=\"https://noticias.caracoltv.com/salud/como-se-ve-afectado-el-olfato-por-el-coronavirus\">¿Cómo se ve afectado el olfato por el coronavirus?  </a>, <a class=\"Link\" data-cms-ai=\"0\" href=\"https://noticias.caracoltv.com/salud/que-significa-el-rastreo-de-contactos-de-covid-19-y-por-que-es-tan-importante\">¿Qué significa el rastreo de contactos de COVID-19 y por qué es tan importante? </a>, <a class=\"Link\" data-cms-ai=\"0\" href=\"https://noticias.caracoltv.com/entretenimiento/respuesta-de-shannon-de-lima-a-usuario-que-le-dijo-mantenida-de-james\">Contundente respuesta de Shannon De Lima a usuario que le dijo “mantenida” de James</a>, <a class=\"Link\" data-cms-ai=\"0\" href=\"https://noticias.caracoltv.com/entretenimiento/natalia-paris-sorprende-a-sus-seguidores-al-revelar-experiencia-paranormal\">Natalia París sorprende a sus seguidores al revelar experiencia paranormal</a>, <a class=\"Link\" data-cms-ai=\"0\" href=\"https://noticias.caracoltv.com/entretenimiento/una-experiencia-maravillosa-fernando-trueba-sobre-hacer-el-olvido-que-seremos-en-colombia\">“Una experiencia maravillosa”: Fernando Trueba sobre hacer ‘El olvido que seremos’ en Colombia</a>, <a class=\"Link\" data-cms-ai=\"0\" href=\"https://noticias.caracoltv.com/entretenimiento/dedicatoria-de-la-chilindrina-por-cumpleanos-de-don-ramon\">“Te extraño mucho, papá”: tierna dedicatoria de La Chilindrina por cumpleaños de Don Ramón</a>, <a class=\"Link\" data-cms-ai=\"0\" href=\"https://noticias.caracoltv.com/entretenimiento/salir-de-la-pobreza-ni-siquiera-es-tener-dinero-vea-el-contundente-mensaje-que-envio-la-liendra\">“Salir de la pobreza ni siquiera es tener dinero”: vea el contundente mensaje que envió La Liendra</a>, <a class=\"Link\" data-cms-ai=\"0\" href=\"https://noticias.caracoltv.com/entretenimiento/el-dj-erick-morillo-muerto-en-extranas-circunstancias-enfrentaba-un-proceso-judicial-hace-un-mes\">El DJ Erick Morillo, muerto en extrañas circunstancias, enfrentaba un proceso judicial hace un mes</a>, <a class=\"Link\" data-cms-ai=\"0\" href=\"https://noticias.caracoltv.com/entretenimiento/bts-habla-de-su-exitosa-cancion-dynamite-y-envia-un-mensaje-a-los-army-de-todo-el-mundo\">BTS habla de su exitosa canción ‘Dynamite’ y envía un mensaje a los 'Army' de todo el mundo</a>, <a class=\"Link\" data-cms-ai=\"0\" href=\"https://noticias.caracoltv.com/entretenimiento/sara-uribe-ensena-el-tatuaje-que-se-hizo-en-pareja\">Sara Uribe enseña el tatuaje que se hizo en pareja </a>, <a class=\"Link\" data-cms-ai=\"0\" href=\"https://noticias.caracoltv.com/entretenimiento/elton-john-billie-eilish-y-ozzy-osbourne-donaron-valiosos-objetos-para-una-subasta-benefica\">Elton John, Billie Eilish y Ozzy Osbourne donaron valiosos objetos para una subasta benéfica  </a>, <a class=\"Link\" data-cms-ai=\"0\" href=\"https://noticias.caracoltv.com/entretenimiento/jennifer-lopez-liderara-campana-para-que-las-mujeres-latinas-voten-en-elecciones-de-ee-uu\">Jennifer Lopez liderará campaña para que las mujeres latinas voten en elecciones de EE. UU.</a>]\n"
        }
      ]
    },
    {
      "cell_type": "code",
      "metadata": {
        "id": "ouVrswyM95sM",
        "colab_type": "code",
        "colab": {
          "base_uri": "https://localhost:8080/",
          "height": 71
        },
        "outputId": "ba72f561-a351-4ad9-95f1-79c39ecb45b0",
        "tags": []
      },
      "source": [
        "titulos =[]\n",
        "links = []\n",
        "for noticia in noticias:\n",
        "  titulos.append(noticia.text)\n",
        "  links.append(noticia['href'])\n",
        "print (titulos)\n",
        "print (links)\n",
        "dictNoticias = {}\n",
        "dictNoticias['Noticias']= titulos\n",
        "dictNoticias['links']= links"
      ],
      "execution_count": 10,
      "outputs": [
        {
          "output_type": "stream",
          "name": "stdout",
          "text": "['¡Por fin verá la luz! El túnel de La Línea empieza a funcionar este 4 de septiembre ', 'Acordeonero que le cantó a la pandemia y sobrevivió al COVID perdió la batalla contra otro enemigo', 'Bus del SITP repleto de pasajeros: una imagen que preocupa en Bogotá ', 'Niegan insólita tutela a mujer que dice que el cartel de Medellín lo creó el “Clero Ruso Ortodoxo”', 'La historia de una ‘bebé milagro’: su mamá murió tras ser arrollada por conductora ebria ', '\"Derrotamos al gobierno\": se cayó el \\'mico\\' de la ley de regalías que daba luz verde al fracking  ', 'Egan Bernal envió un mensaje tras la etapa 6 del Tour de Francia: “hay que tener paciencia”', 'El debut en el Tour de Francia todavía no le sonríe a Dayer Quintana: volvió a caerse en la etapa 6 ', '¿Por qué ningún ciclista se atreve a lanzar un ataque en la montaña del Tour de Francia? ', 'Canadá sugiere \"saltarse\" los besos y usar tapabocas durante el sexo en tiempo de coronavirus', 'India superó sus propias cifras récord de contagios diarios con COVID-19 ', 'Colombia hará estudio para medir el daño causado por el COVID-19 ', \"Vuelve la rumba y Cali lo sabe: así será ‘aguae'lulo’ que reactiva este sector en la ciudad \", 'El 93% de proyectos de vacunas no llegan a la fase III: Minsalud pide “optimismo moderado” ', 'La Roca reveló que él y su familia tuvieron coronavirus', 'Vacuna contra COVID-19 no estaría antes del primer semestre de 2021: Minsalud', '“Mi bebé es muy pequeño y no le puedo faltar”: Danna García habla de la muerte tras el COVID-19', '“Si lees esto, estoy muerto”: lo que escribió joven antes de ser alcanzado por un violador', 'Ladrón huyó al ver que su cómplice fue herido de muerte por un escolta en el sur de Medellín', 'Prepárese para ver más gente en el Metro: autorizaron ampliar su capacidad de ocupación', 'Por una “afección respiratoria”, Clara Luz Roldán fue internada en una clínica de Cali', 'Heroicos policías salvaron a mujer que estaba a punto de lanzarse desde un puente en Magdalena', 'Madre del delito: mujer que integraba banda criminal escondía las armas en el coche de su hijo ', 'Ciudadanos denuncian calvario para poder sacar sus vehículos de los patios en Medellín', 'Niño de 12 años sufrió graves quemaduras tras la caída de un cable en Barranquilla ', 'Cárcel para una joven que asesinó a una mujer durante una riña entre pandillas ', 'Rescatan a trabajadores que habían caído a un abismo en el Túnel del Toyo', 'Encuentran los cuerpos de 5 hermanitos en un apartamento y la mamá sería la responsable del crimen', 'Como malabarista de circo: arriesgó su vida para robar cableado eléctrico a 10 metros de altura', 'Reunión entre Henrique Capriles y el gobierno de Maduro molestó a Guaidó  ', '“Prueba indiscutible”: confirman que Alexei Navalny, duro crítico de Vladimir Putin, fue envenenado ', 'EE. UU. se la juega por deportar a Mancuso a Colombia: estos son sus argumentos  ', '“Esto es hermoso”: papa Francisco se reencuentra cara a cara con fieles luego de 6 meses', 'Muere joven embarazada en atentado contra su novio mientras ambos dormían', 'Se les dañó la risa a payasos que despedían con fiesta a uno de sus colegas', 'EE. UU. no participará en plataforma de la OMS para distribuir la vacuna del coronavirus ', 'Muere otro afroamericano a manos de la Policía en EE. UU.: denuncian que le dieron más de 20 tiros', 'Coronavirus cobró la vida de otros 296 colombianos: han muerto 20.348', 'Desde el Congreso denuncian manipulación de cifras para aplanar curva del COVID-19 ', 'Heroica labor de 100 voluntarios que lucharon contra el COVID en varias zonas de Colombia', 'Colombia supera los 20 mil muertos por coronavirus, justo el día que empieza la \"nueva realidad\"', 'Bacterióloga contrajo COVID-19 en abril y volvió a dar positivo en julio: ¿puede ser reinfección? ', '¡Cuidado! Gobierno reconoce que con nueva normalidad puede haber un rebrote del coronavirus \\r\\n ', 'Colombia se acerca a las 20.000 muertes por COVID-19 al registrar 299 en el último reporte', '¿Tiene barba? Ojo a estas recomendaciones a la hora de usar tapabocas', '¿Cómo se ve afectado el olfato por el coronavirus?  ', '¿Qué significa el rastreo de contactos de COVID-19 y por qué es tan importante? ', 'Contundente respuesta de Shannon De Lima a usuario que le dijo “mantenida” de James', 'Natalia París sorprende a sus seguidores al revelar experiencia paranormal', '“Una experiencia maravillosa”: Fernando Trueba sobre hacer ‘El olvido que seremos’ en Colombia', '“Te extraño mucho, papá”: tierna dedicatoria de La Chilindrina por cumpleaños de Don Ramón', '“Salir de la pobreza ni siquiera es tener dinero”: vea el contundente mensaje que envió La Liendra', 'El DJ Erick Morillo, muerto en extrañas circunstancias, enfrentaba un proceso judicial hace un mes', \"BTS habla de su exitosa canción ‘Dynamite’ y envía un mensaje a los 'Army' de todo el mundo\", 'Sara Uribe enseña el tatuaje que se hizo en pareja ', 'Elton John, Billie Eilish y Ozzy Osbourne donaron valiosos objetos para una subasta benéfica  ', 'Jennifer Lopez liderará campaña para que las mujeres latinas voten en elecciones de EE. UU.']\n['https://noticias.caracoltv.com/economia/por-fin-vera-la-luz-el-tunel-de-la-linea-empieza-a-funcionar-este-4-de-septiembre', 'https://noticias.caracoltv.com/caribe/acordeonero-que-le-canto-a-la-pandemia-y-sobrevivio-al-covid-perdio-la-batalla-contra-otro-enemigo', 'https://noticias.caracoltv.com/el-periodista-soy-yo/bus-del-sitp-repleto-de-pasajeros-una-imagen-que-preocupa-en-bogota', 'https://noticias.caracoltv.com/antioquia/tutela-dice-que-el-cartel-de-medellin-lo-creo-el-clero-ruso-ortodoxo', 'https://noticias.caracoltv.com/mundo/bebe-milagro-su-mama-murio-tras-ser-arrollada-por-conductora-ebria', 'https://noticias.caracoltv.com/politica/derrotamos-al-gobierno-se-cayo-el-mico-de-la-ley-de-regalias-que-daba-luz-verde-al-fracking', 'https://noticias.caracoltv.com/tour-de-francia/ciclismo-egan-bernal-envio-un-mensaje-tras-la-etapa-6-del-tour-de-francia-hay-que-tener-paciencia', 'https://noticias.caracoltv.com/tour-de-francia/el-debut-en-el-tour-de-francia-todavia-no-le-sonrie-a-dayer-quintana-volvio-a-caerse-en-la-etapa-6', 'https://noticias.caracoltv.com/tour-de-francia/ciclista-por-que-ningun-ciclista-se-atreve-a-lanzar-un-ataque-en-la-montana-del-tour-de-francia', 'https://noticias.caracoltv.com/salud/canada-sugiere-saltarse-los-besos-y-usar-tapabocas-durante-el-sexo-en-tiempo-de-coronavirus', 'https://noticias.caracoltv.com/mundo/india-supero-sus-propias-cifras-record-de-contagios-diarios-con-covid-19', 'https://noticias.caracoltv.com/salud/colombia-hara-estudio-para-medir-el-dano-causado-por-el-covid-19', 'https://noticias.caracoltv.com/valle/vuelve-la-rumba-y-cali-lo-sabe-asi-sera-aguaelulo-que-reactiva-este-sector-en-la-ciudad', 'https://noticias.caracoltv.com/salud/el-93-de-proyectos-de-vacunas-no-llegan-a-la-fase-iii-minsalud-pide-optimismo-moderado', 'https://noticias.caracoltv.com/entretenimiento/la-roca-revelo-que-el-y-su-familia-tuvieron-coronavirus', 'https://noticias.caracoltv.com/salud/vacuna-contra-covid-19-no-estaria-antes-del-primer-semestre-de-2021-minsalud', 'https://noticias.caracoltv.com/antioquia/mi-bebe-es-muy-pequeno-y-no-le-puedo-faltar-danna-garcia-habla-de-la-muerte-tras-el-covid-19', 'https://noticias.caracoltv.com/mundo/si-lees-esto-estoy-muerto-lo-que-escribio-joven-antes-de-ser-alcanzado-por-un-violador', 'https://noticias.caracoltv.com/antioquia/ladron-huyo-al-ver-que-su-complice-fue-herido-de-muerte-por-un-escolta-en-el-sur-de-medellin', 'https://noticias.caracoltv.com/antioquia/preparese-para-ver-mas-gente-en-el-metro-autorizaron-ampliar-su-capacidad-de-ocupacion', 'https://noticias.caracoltv.com/valle/por-una-afeccion-respiratoria-clara-luz-roldan-fue-internada-en-una-clinica-de-cali', 'https://noticias.caracoltv.com/caribe/heroicos-policias-salvaron-a-mujer-que-estaba-a-punto-de-lanzarse-desde-un-puente-en-magdalena', 'https://noticias.caracoltv.com/valle/madre-del-delito-mujer-que-integraba-banda-criminal-escondia-las-armas-en-el-coche-de-su-hijo', 'https://noticias.caracoltv.com/antioquia/ciudadanos-denuncian-calvario-para-poder-sacar-sus-vehiculos-de-los-patios-en-medellin', 'https://noticias.caracoltv.com/caribe/nino-de-12-anos-sufrio-graves-quemaduras-tras-la-caida-de-un-cable-en-barranquilla', 'https://noticias.caracoltv.com/valle/carcel-para-una-joven-que-asesino-a-una-mujer-durante-una-rina-entre-pandillas', 'https://noticias.caracoltv.com/antioquia/rescatan-a-trabajadores-que-habian-caido-a-un-abismo-en-el-tunel-del-toyo', 'https://noticias.caracoltv.com/mundo/encuentran-los-cuerpos-de-5-hermanitos-en-un-apartamento-y-la-mama-seria-la-responsable-del-crimen', 'https://noticias.caracoltv.com/mundo/como-malabarista-de-circo-arriesgo-su-vida-para-robar-cableado-electrico-y-termino-mal', 'https://noticias.caracoltv.com/mundo/reunion-entre-henrique-capriles-y-el-gobierno-de-maduro-molesto-a-guaido', 'https://noticias.caracoltv.com/mundo/prueba-indiscutible-confirman-que-alexei-navalny-duro-critico-de-vladimir-putin-fue-envenenado', 'https://noticias.caracoltv.com/mundo/ee-uu-se-la-juega-por-deportar-a-mancuso-a-colombia-estos-dos-sus-argumentos', 'https://noticias.caracoltv.com/mundo/esto-es-hermoso-papa-francisco-se-reencuentra-cara-a-cara-con-fieles-luego-de-6-meses', 'https://noticias.caracoltv.com/mundo/muere-joven-embarazada-en-atentado-contra-su-novio-mientras-ambos-dormian', 'https://noticias.caracoltv.com/mundo/se-le-dano-la-risa-a-grupo-de-payasos-que-despedia-con-fiesta-a-uno-de-sus-colegas', 'https://noticias.caracoltv.com/mundo/ee-uu-no-participara-en-plataforma-de-la-oms-para-distribuir-la-vacuna-del-coronavirus', 'https://noticias.caracoltv.com/mundo/muere-otro-hombre-afroamericano-a-manos-de-la-policia-en-ee-uu-denuncian-que-le-dieron-mas-de-20-tiros', 'https://noticias.caracoltv.com/salud/casos-de-coronavirus-colombia-2-de-septiembre', 'https://noticias.caracoltv.com/salud/desde-el-congreso-denuncian-manipulacion-de-cifras-para-aplanar-curva-del-covid-19', 'https://noticias.caracoltv.com/salud/heroica-labor-de-100-voluntarios-que-lucharon-contra-el-covid-en-varias-zonas-de-colombia', 'https://noticias.caracoltv.com/salud/casos-de-coronavirus-colombia-1-de-septiembre', 'https://noticias.caracoltv.com/salud/bacteriologa-contrajo-covid-19-en-abril-y-volvio-a-dar-positivo-en-julio-puede-ser-reinfeccion', 'https://noticias.caracoltv.com/salud/cuidado-gobierno-reconoce-que-con-nueva-normalidad-puede-haber-un-rebrote-del-coronavirus', 'https://noticias.caracoltv.com/salud/casos-de-coronavirus-colombia-31-de-agosto', 'https://noticias.caracoltv.com/salud/tiene-barba-ojo-a-estas-recomendaciones-a-la-hora-de-usar-tapabocas', 'https://noticias.caracoltv.com/salud/como-se-ve-afectado-el-olfato-por-el-coronavirus', 'https://noticias.caracoltv.com/salud/que-significa-el-rastreo-de-contactos-de-covid-19-y-por-que-es-tan-importante', 'https://noticias.caracoltv.com/entretenimiento/respuesta-de-shannon-de-lima-a-usuario-que-le-dijo-mantenida-de-james', 'https://noticias.caracoltv.com/entretenimiento/natalia-paris-sorprende-a-sus-seguidores-al-revelar-experiencia-paranormal', 'https://noticias.caracoltv.com/entretenimiento/una-experiencia-maravillosa-fernando-trueba-sobre-hacer-el-olvido-que-seremos-en-colombia', 'https://noticias.caracoltv.com/entretenimiento/dedicatoria-de-la-chilindrina-por-cumpleanos-de-don-ramon', 'https://noticias.caracoltv.com/entretenimiento/salir-de-la-pobreza-ni-siquiera-es-tener-dinero-vea-el-contundente-mensaje-que-envio-la-liendra', 'https://noticias.caracoltv.com/entretenimiento/el-dj-erick-morillo-muerto-en-extranas-circunstancias-enfrentaba-un-proceso-judicial-hace-un-mes', 'https://noticias.caracoltv.com/entretenimiento/bts-habla-de-su-exitosa-cancion-dynamite-y-envia-un-mensaje-a-los-army-de-todo-el-mundo', 'https://noticias.caracoltv.com/entretenimiento/sara-uribe-ensena-el-tatuaje-que-se-hizo-en-pareja', 'https://noticias.caracoltv.com/entretenimiento/elton-john-billie-eilish-y-ozzy-osbourne-donaron-valiosos-objetos-para-una-subasta-benefica', 'https://noticias.caracoltv.com/entretenimiento/jennifer-lopez-liderara-campana-para-que-las-mujeres-latinas-voten-en-elecciones-de-ee-uu']\n"
        }
      ]
    },
    {
      "cell_type": "code",
      "metadata": {
        "id": "N7TeuqLk-G-M",
        "colab_type": "code",
        "colab": {}
      },
      "source": [
        "import pandas as pd \n",
        "noticiasCaracol = pd.DataFrame(dictNoticias)\n",
        "noticiasCaracol\n",
        "\n",
        "noticiasCaracol.to_csv('noticiasCaracol.csv', index=False)"
      ],
      "execution_count": 11,
      "outputs": []
    },
    {
      "cell_type": "code",
      "execution_count": null,
      "metadata": {},
      "outputs": [],
      "source": []
    }
  ]
}