{
  "nbformat": 4,
  "nbformat_minor": 0,
  "metadata": {
    "colab": {
      "name": "listas_unidimensional_y_bidimensional.ipynb",
      "provenance": []
    },
    "kernelspec": {
      "name": "python3",
      "display_name": "Python 3"
    }
  },
  "cells": [
    {
      "cell_type": "code",
      "metadata": {
        "id": "b5ydhmWetn9_",
        "colab_type": "code",
        "colab": {}
      },
      "source": [
        "import pandas as pd\n"
      ],
      "execution_count": 1,
      "outputs": []
    },
    {
      "cell_type": "markdown",
      "metadata": {
        "id": "tb7CJcw6wFQ_",
        "colab_type": "text"
      },
      "source": [
        "#UNIDIMENSIONAL:\n"
      ]
    },
    {
      "cell_type": "code",
      "metadata": {
        "id": "WxQpcajuu-z0",
        "colab_type": "code",
        "colab": {
          "base_uri": "https://localhost:8080/",
          "height": 204
        },
        "outputId": "b896d2f1-dae3-46f6-a87e-83265109e5b3"
      },
      "source": [
        "lista_productos = pd.Series({\"carne\":20000, \"huevos\":1500, \"leche\":2700, \"azucar\":3200, \"arroz\": 4200, \"pescado\": 25000, \"pan\": 1700, \"papa\":300, \"tomate\": 800, \"lentajas\":1700})\n",
        "lista_productos"
      ],
      "execution_count": 2,
      "outputs": [
        {
          "output_type": "execute_result",
          "data": {
            "text/plain": [
              "carne       20000\n",
              "huevos       1500\n",
              "leche        2700\n",
              "azucar       3200\n",
              "arroz        4200\n",
              "pescado     25000\n",
              "pan          1700\n",
              "papa          300\n",
              "tomate        800\n",
              "lentajas     1700\n",
              "dtype: int64"
            ]
          },
          "metadata": {
            "tags": []
          },
          "execution_count": 2
        }
      ]
    },
    {
      "cell_type": "markdown",
      "metadata": {
        "id": "q2oHAG5QwJiM",
        "colab_type": "text"
      },
      "source": [
        "#BIDIMENSIONAL:"
      ]
    },
    {
      "cell_type": "code",
      "metadata": {
        "id": "zuKIpDbSwMFN",
        "colab_type": "code",
        "colab": {
          "base_uri": "https://localhost:8080/",
          "height": 173
        },
        "outputId": "c7544809-c8ec-4cb7-fe9b-6f6c8e46304e"
      },
      "source": [
        "lista_productos_frame= pd.DataFrame({\"Enero\":[20000,1500,2700,3200],\"Febrero\":[19850,1300,2900,3250], \"Marzo\":[20100,1480,2600,3100], \"Abril\":[19990,1553,2580,2990]}, index=[\"carne\",\"huevos\",\"leche\",\"azucar\"])\n",
        "lista_productos_frame"
      ],
      "execution_count": 5,
      "outputs": [
        {
          "output_type": "execute_result",
          "data": {
            "text/html": [
              "<div>\n",
              "<style scoped>\n",
              "    .dataframe tbody tr th:only-of-type {\n",
              "        vertical-align: middle;\n",
              "    }\n",
              "\n",
              "    .dataframe tbody tr th {\n",
              "        vertical-align: top;\n",
              "    }\n",
              "\n",
              "    .dataframe thead th {\n",
              "        text-align: right;\n",
              "    }\n",
              "</style>\n",
              "<table border=\"1\" class=\"dataframe\">\n",
              "  <thead>\n",
              "    <tr style=\"text-align: right;\">\n",
              "      <th></th>\n",
              "      <th>Enero</th>\n",
              "      <th>Febrero</th>\n",
              "      <th>Marzo</th>\n",
              "      <th>Abril</th>\n",
              "    </tr>\n",
              "  </thead>\n",
              "  <tbody>\n",
              "    <tr>\n",
              "      <th>carne</th>\n",
              "      <td>20000</td>\n",
              "      <td>19850</td>\n",
              "      <td>20100</td>\n",
              "      <td>19990</td>\n",
              "    </tr>\n",
              "    <tr>\n",
              "      <th>huevos</th>\n",
              "      <td>1500</td>\n",
              "      <td>1300</td>\n",
              "      <td>1480</td>\n",
              "      <td>1553</td>\n",
              "    </tr>\n",
              "    <tr>\n",
              "      <th>leche</th>\n",
              "      <td>2700</td>\n",
              "      <td>2900</td>\n",
              "      <td>2600</td>\n",
              "      <td>2580</td>\n",
              "    </tr>\n",
              "    <tr>\n",
              "      <th>azucar</th>\n",
              "      <td>3200</td>\n",
              "      <td>3250</td>\n",
              "      <td>3100</td>\n",
              "      <td>2990</td>\n",
              "    </tr>\n",
              "  </tbody>\n",
              "</table>\n",
              "</div>"
            ],
            "text/plain": [
              "        Enero  Febrero  Marzo  Abril\n",
              "carne   20000    19850  20100  19990\n",
              "huevos   1500     1300   1480   1553\n",
              "leche    2700     2900   2600   2580\n",
              "azucar   3200     3250   3100   2990"
            ]
          },
          "metadata": {
            "tags": []
          },
          "execution_count": 5
        }
      ]
    },
    {
      "cell_type": "code",
      "metadata": {
        "id": "mcTN0Bx1zMPM",
        "colab_type": "code",
        "colab": {
          "base_uri": "https://localhost:8080/",
          "height": 173
        },
        "outputId": "b230746f-ef32-4d46-e681-c92a00c0630e"
      },
      "source": [
        "lista_productos_frame[[\"Febrero\",\"Marzo\"]]"
      ],
      "execution_count": 6,
      "outputs": [
        {
          "output_type": "execute_result",
          "data": {
            "text/html": [
              "<div>\n",
              "<style scoped>\n",
              "    .dataframe tbody tr th:only-of-type {\n",
              "        vertical-align: middle;\n",
              "    }\n",
              "\n",
              "    .dataframe tbody tr th {\n",
              "        vertical-align: top;\n",
              "    }\n",
              "\n",
              "    .dataframe thead th {\n",
              "        text-align: right;\n",
              "    }\n",
              "</style>\n",
              "<table border=\"1\" class=\"dataframe\">\n",
              "  <thead>\n",
              "    <tr style=\"text-align: right;\">\n",
              "      <th></th>\n",
              "      <th>Febrero</th>\n",
              "      <th>Marzo</th>\n",
              "    </tr>\n",
              "  </thead>\n",
              "  <tbody>\n",
              "    <tr>\n",
              "      <th>carne</th>\n",
              "      <td>19850</td>\n",
              "      <td>20100</td>\n",
              "    </tr>\n",
              "    <tr>\n",
              "      <th>huevos</th>\n",
              "      <td>1300</td>\n",
              "      <td>1480</td>\n",
              "    </tr>\n",
              "    <tr>\n",
              "      <th>leche</th>\n",
              "      <td>2900</td>\n",
              "      <td>2600</td>\n",
              "    </tr>\n",
              "    <tr>\n",
              "      <th>azucar</th>\n",
              "      <td>3250</td>\n",
              "      <td>3100</td>\n",
              "    </tr>\n",
              "  </tbody>\n",
              "</table>\n",
              "</div>"
            ],
            "text/plain": [
              "        Febrero  Marzo\n",
              "carne     19850  20100\n",
              "huevos     1300   1480\n",
              "leche      2900   2600\n",
              "azucar     3250   3100"
            ]
          },
          "metadata": {
            "tags": []
          },
          "execution_count": 6
        }
      ]
    },
    {
      "cell_type": "code",
      "metadata": {
        "id": "55mSRboyzcVc",
        "colab_type": "code",
        "colab": {
          "base_uri": "https://localhost:8080/",
          "height": 102
        },
        "outputId": "08c8f506-c200-4923-c1ca-f427f7226d33"
      },
      "source": [
        "lista_productos_frame[\"Abril\"]"
      ],
      "execution_count": 7,
      "outputs": [
        {
          "output_type": "execute_result",
          "data": {
            "text/plain": [
              "carne     19990\n",
              "huevos     1553\n",
              "leche      2580\n",
              "azucar     2990\n",
              "Name: Abril, dtype: int64"
            ]
          },
          "metadata": {
            "tags": []
          },
          "execution_count": 7
        }
      ]
    }
  ]
}