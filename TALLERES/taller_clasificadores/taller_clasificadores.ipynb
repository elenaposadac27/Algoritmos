{
  "nbformat": 4,
  "nbformat_minor": 0,
  "metadata": {
    "colab": {
      "name": "taller_clasificadores.ipynb",
      "provenance": []
    },
    "kernelspec": {
      "name": "python3",
      "display_name": "Python 3"
    }
  },
  "cells": [
    {
      "cell_type": "markdown",
      "metadata": {
        "id": "0iaQ8IKZGNtX"
      },
      "source": [
        "#PUNTO 1 KNN\n",
        "\n"
      ]
    },
    {
      "cell_type": "code",
      "metadata": {
        "id": "0-ZPlYmI_fmr"
      },
      "source": [
        "import sklearn\n",
        "from sklearn.datasets import load_iris\n",
        "from sklearn.model_selection import train_test_split\n",
        "iris=load_iris()\n",
        "\n",
        "datosEntrenamiento, datosPrueba,respuestasEntrenamiento,respuestaPrueba=train_test_split(iris['data'],iris['target'])"
      ],
      "execution_count": 34,
      "outputs": []
    },
    {
      "cell_type": "markdown",
      "metadata": {
        "id": "PH4dcAFvAK8u"
      },
      "source": [
        "# 3 vecinos"
      ]
    },
    {
      "cell_type": "code",
      "metadata": {
        "id": "9AoMUWlvANOO",
        "outputId": "cfb5a5e8-2945-4fde-d85c-6357ab278a7b",
        "colab": {
          "base_uri": "https://localhost:8080/",
          "height": 34
        }
      },
      "source": [
        "from sklearn.neighbors import KNeighborsClassifier\n",
        "knn3=KNeighborsClassifier(n_neighbors=3)\n",
        "knn3.fit(datosEntrenamiento,respuestasEntrenamiento)\n",
        "\n",
        "print(knn3.score(datosPrueba,respuestaPrueba)*100)\n"
      ],
      "execution_count": 35,
      "outputs": [
        {
          "output_type": "stream",
          "text": [
            "92.10526315789474\n"
          ],
          "name": "stdout"
        }
      ]
    },
    {
      "cell_type": "markdown",
      "metadata": {
        "id": "6lVImAZDAut9"
      },
      "source": [
        "#10 vecinos"
      ]
    },
    {
      "cell_type": "code",
      "metadata": {
        "id": "dqotfmgzAweP",
        "outputId": "23bec89a-408f-4f3d-c03c-dda05e326778",
        "colab": {
          "base_uri": "https://localhost:8080/",
          "height": 34
        }
      },
      "source": [
        "from sklearn.neighbors import KNeighborsClassifier\n",
        "knn10=KNeighborsClassifier(n_neighbors=10)\n",
        "knn10.fit(datosEntrenamiento,respuestasEntrenamiento)\n",
        "\n",
        "print(knn10.score(datosPrueba,respuestaPrueba)*100)"
      ],
      "execution_count": 36,
      "outputs": [
        {
          "output_type": "stream",
          "text": [
            "94.73684210526315\n"
          ],
          "name": "stdout"
        }
      ]
    },
    {
      "cell_type": "markdown",
      "metadata": {
        "id": "VS7bQF7qA3KN"
      },
      "source": [
        "#27 vecinos"
      ]
    },
    {
      "cell_type": "code",
      "metadata": {
        "id": "yUyJukPWBAuM",
        "outputId": "55c5658e-5659-4178-882c-a113bd6f4cb4",
        "colab": {
          "base_uri": "https://localhost:8080/",
          "height": 34
        }
      },
      "source": [
        "from sklearn.neighbors import KNeighborsClassifier\n",
        "knn27=KNeighborsClassifier(n_neighbors=27)\n",
        "knn27.fit(datosEntrenamiento,respuestasEntrenamiento)\n",
        "\n",
        "print(knn27.score(datosPrueba,respuestaPrueba)*100)"
      ],
      "execution_count": 37,
      "outputs": [
        {
          "output_type": "stream",
          "text": [
            "92.10526315789474\n"
          ],
          "name": "stdout"
        }
      ]
    },
    {
      "cell_type": "code",
      "metadata": {
        "id": "ZBrnDThnBDET",
        "outputId": "e9f67e25-cd2d-4981-9ee8-00789ba4b082",
        "colab": {
          "base_uri": "https://localhost:8080/",
          "height": 34
        }
      },
      "source": [
        "score_clasificadores = []\n",
        "score_clasificadores.append(knn3.score(datosPrueba,respuestaPrueba)*100)\n",
        "score_clasificadores.append(knn10.score(datosPrueba,respuestaPrueba)*100)\n",
        "score_clasificadores.append(knn27.score(datosPrueba,respuestaPrueba)*100)\n",
        "print(\"El maximo puntaje fue \",max(score_clasificadores))\n",
        "\n",
        "lista_clasificadores = []\n",
        "lista_clasificadores.append(knn3=KNeighborsClassifier(n_neighbors=3))\n",
        "lista_clasificadores.append(knn10=KNeighborsClassifier(n_neighbors=10))\n",
        "lista_clasificadores.append(knn27=KNeighborsClassifier(n_neighbors=27))"
      ],
      "execution_count": 43,
      "outputs": [
        {
          "output_type": "stream",
          "text": [
            "El maximo puntaje fue  94.73684210526315\n"
          ],
          "name": "stdout"
        }
      ]
    },
    {
      "cell_type": "code",
      "metadata": {
        "id": "FLOfcSjrEz0x",
        "outputId": "4be4585c-8f2f-49a0-bc66-9d3afe4c799a",
        "colab": {
          "base_uri": "https://localhost:8080/",
          "height": 295
        }
      },
      "source": [
        "import matplotlib.pyplot as plt\n",
        "vecinos = [\"3 vecinos\",\"10 vecinos\",\"27 vecinos\"]\n",
        "plt.bar(vecinos,score_clasificadores)\n",
        "plt.ylabel(\"Porcentaje de acierto\")\n",
        "plt.xlabel(\"Cantidad de vecinos comparados\")\n",
        "plt.title(\"COMPARACIÓN CLASIFICADORES KNN\")\n",
        "plt.show()"
      ],
      "execution_count": 49,
      "outputs": [
        {
          "output_type": "display_data",
          "data": {
            "image/png": "[encoded data removed]",
            "text/plain": [
              "<Figure size 432x288 with 1 Axes>"
            ]
          },
          "metadata": {
            "tags": [],
            "needs_background": "light"
          }
        }
      ]
    },
    {
      "cell_type": "markdown",
      "metadata": {
        "id": "vyKo9utlGfPf"
      },
      "source": [
        "#PUNTO 2 ARBOL DE DECISIONES"
      ]
    },
    {
      "cell_type": "code",
      "metadata": {
        "id": "huTgPZz1Gkr2"
      },
      "source": [
        "from sklearn.datasets import load_iris \n",
        "from sklearn.model_selection import train_test_split \n",
        "from sklearn.tree import  DecisionTreeClassifier \n",
        "\n",
        "iris = load_iris()\n",
        "\n",
        "datosEntrenamiento, datosPrueba,respuestasEntrenamiento,respuestasPrueba=train_test_split(iris['data'],iris['target'])"
      ],
      "execution_count": 71,
      "outputs": []
    },
    {
      "cell_type": "code",
      "metadata": {
        "id": "8Os35dDXHAmM",
        "outputId": "3c84b5a3-dcdb-415c-9e61-1662397e6f32",
        "colab": {
          "base_uri": "https://localhost:8080/",
          "height": 34
        }
      },
      "source": [
        "arbol3 = DecisionTreeClassifier(max_depth=3)\n",
        "arbol3.fit(datosEntrenamiento,respuestasEntrenamiento)\n",
        "scoreTree3 = arbol3.score(datosPrueba, respuestasPrueba)*100\n",
        "print(scoreTree3)"
      ],
      "execution_count": 72,
      "outputs": [
        {
          "output_type": "stream",
          "text": [
            "92.10526315789474\n"
          ],
          "name": "stdout"
        }
      ]
    },
    {
      "cell_type": "code",
      "metadata": {
        "id": "pZkBabBdHNQi",
        "outputId": "f3ef10ba-fa9e-471f-f634-2a3fd5df8704",
        "colab": {
          "base_uri": "https://localhost:8080/",
          "height": 34
        }
      },
      "source": [
        "arbol5 = DecisionTreeClassifier(max_depth=5)\n",
        "arbol5.fit(datosEntrenamiento,respuestasEntrenamiento)\n",
        "scoreTree5 = arbol5.score(datosPrueba, respuestasPrueba)*100\n",
        "print(scoreTree5)"
      ],
      "execution_count": 73,
      "outputs": [
        {
          "output_type": "stream",
          "text": [
            "89.47368421052632\n"
          ],
          "name": "stdout"
        }
      ]
    },
    {
      "cell_type": "code",
      "metadata": {
        "id": "yZGikJguHTCx",
        "outputId": "35b252ec-bf81-4072-c093-116f4fcd34f1",
        "colab": {
          "base_uri": "https://localhost:8080/",
          "height": 34
        }
      },
      "source": [
        "arbol12 = DecisionTreeClassifier(max_depth=12)\n",
        "arbol12.fit(datosEntrenamiento,respuestasEntrenamiento)\n",
        "scoreTree12 = arbol12.score(datosPrueba, respuestasPrueba)*100\n",
        "print(scoreTree12)"
      ],
      "execution_count": 74,
      "outputs": [
        {
          "output_type": "stream",
          "text": [
            "92.10526315789474\n"
          ],
          "name": "stdout"
        }
      ]
    },
    {
      "cell_type": "code",
      "metadata": {
        "id": "0VmeLRRsHoxq",
        "outputId": "00d6c1ac-3e17-4394-9bb0-af396dff799a",
        "colab": {
          "base_uri": "https://localhost:8080/",
          "height": 312
        }
      },
      "source": [
        "score_clasificadores_arbol=[]\n",
        "\n",
        "score_clasificadores_arbol.append(arbol3.score(datosPrueba, respuestasPrueba)*100)\n",
        "score_clasificadores_arbol.append(arbol5.score(datosPrueba, respuestasPrueba)*100)\n",
        "score_clasificadores_arbol.append(arbol12.score(datosPrueba, respuestasPrueba)*100)\n",
        "\n",
        "print(\"el puntaje maximo fue\", max(score_clasificadores_arbol))\n",
        "\n",
        "import matplotlib.pyplot as plt\n",
        "profundidad = [\"3\",\"5\",\"12\"]\n",
        "plt.bar(profundidad,score_clasificadores_arbol)\n",
        "plt.ylabel(\"Porcentaje de acierto\")\n",
        "plt.xlabel(\"Profundidad\")\n",
        "plt.title(\"COMPARACIÓN CLASIFICADORES ARBOL DE DECISIONES\")\n",
        "plt.show()"
      ],
      "execution_count": 75,
      "outputs": [
        {
          "output_type": "stream",
          "text": [
            "el puntaje maximo fue 92.10526315789474\n"
          ],
          "name": "stdout"
        },
        {
          "output_type": "display_data",
          "data": {
            "image/png": "[encoded data removed]",
            "text/plain": [
              "<Figure size 432x288 with 1 Axes>"
            ]
          },
          "metadata": {
            "tags": [],
            "needs_background": "light"
          }
        }
      ]
    },
    {
      "cell_type": "markdown",
      "metadata": {
        "id": "H6CQDnX9LUvH"
      },
      "source": [
        "#PUNTO 3"
      ]
    },
    {
      "cell_type": "code",
      "metadata": {
        "id": "W3Ktn911LhHK",
        "outputId": "bb0235e3-d71b-44e1-88c8-44c34e06af8e",
        "colab": {
          "base_uri": "https://localhost:8080/",
          "height": 34
        }
      },
      "source": [
        "import sklearn\n",
        "from sklearn.datasets import load_iris\n",
        "from sklearn.model_selection import train_test_split\n",
        "iris=load_iris()\n",
        "\n",
        "#KNN\n",
        "datosEntrenamiento, datosPrueba,respuestasEntrenamiento,respuestaPrueba=train_test_split(iris['data'],iris['target'])\n",
        "\n",
        "from sklearn.neighbors import KNeighborsClassifier\n",
        "knn3=KNeighborsClassifier(n_neighbors=3)\n",
        "knn3.fit(datosEntrenamiento,respuestasEntrenamiento)\n",
        "\n",
        "print(knn3.score(datosPrueba,respuestaPrueba)*100)\n"
      ],
      "execution_count": 80,
      "outputs": [
        {
          "output_type": "stream",
          "text": [
            "100.0\n"
          ],
          "name": "stdout"
        }
      ]
    },
    {
      "cell_type": "code",
      "metadata": {
        "id": "4rYGzqBQLuLd",
        "outputId": "4d7ee011-cf98-48ad-aeeb-3501ffcaed30",
        "colab": {
          "base_uri": "https://localhost:8080/",
          "height": 34
        }
      },
      "source": [
        "#ARBOL DE DECISIONES\n",
        "from sklearn.tree import  DecisionTreeClassifier \n",
        "\n",
        "arbol5 = DecisionTreeClassifier(max_depth=5)\n",
        "arbol5.fit(datosEntrenamiento,respuestasEntrenamiento)\n",
        "scoreTree5 = arbol5.score(datosPrueba, respuestasPrueba)*100\n",
        "print(scoreTree5)"
      ],
      "execution_count": 81,
      "outputs": [
        {
          "output_type": "stream",
          "text": [
            "44.73684210526316\n"
          ],
          "name": "stdout"
        }
      ]
    },
    {
      "cell_type": "code",
      "metadata": {
        "id": "Av1x6eDkL8y-",
        "outputId": "14cccde3-228e-4a77-8c99-5626eafbfd38",
        "colab": {
          "base_uri": "https://localhost:8080/",
          "height": 88
        }
      },
      "source": [
        "#RED NEURONAL\n",
        "from sklearn.neural_network import  MLPClassifier\n",
        "\n",
        "redNeuronal = MLPClassifier(max_iter=60, hidden_layer_sizes=[66,66])\n",
        "redNeuronal.fit(datosEntrenamiento,respuestasEntrenamiento)\n",
        "score = redNeuronal.score(datosPrueba,respuestaPrueba)*100\n",
        "print (score)"
      ],
      "execution_count": 82,
      "outputs": [
        {
          "output_type": "stream",
          "text": [
            "100.0\n"
          ],
          "name": "stdout"
        },
        {
          "output_type": "stream",
          "text": [
            "/usr/local/lib/python3.6/dist-packages/sklearn/neural_network/_multilayer_perceptron.py:571: ConvergenceWarning: Stochastic Optimizer: Maximum iterations (60) reached and the optimization hasn't converged yet.\n",
            "  % self.max_iter, ConvergenceWarning)\n"
          ],
          "name": "stderr"
        }
      ]
    },
    {
      "cell_type": "code",
      "metadata": {
        "id": "Yi_w_SQzNG97",
        "outputId": "1257fd95-544a-475a-b35b-2772749d2bd4",
        "colab": {
          "base_uri": "https://localhost:8080/",
          "height": 312
        }
      },
      "source": [
        "score_clasificadores_total=[]\n",
        "score_clasificadores_total.append(knn3.score(datosPrueba,respuestaPrueba)*100)\n",
        "score_clasificadores_total.append(arbol5.score(datosPrueba, respuestasPrueba)*100)\n",
        "score_clasificadores_total.append(redNeuronal.score(datosPrueba,respuestaPrueba)*100)\n",
        "\n",
        "print(\"el puntaje maximo fue\", max(score_clasificadores_total))\n",
        "\n",
        "import matplotlib.pyplot as plt\n",
        "clasificador = [\"KNN 3\",\"ARBOL DECISIONES 5\",\"RED NEURONAL 60\"]\n",
        "plt.bar(clasificador,score_clasificadores_total)\n",
        "plt.ylabel(\"Porcentaje de acierto\")\n",
        "plt.xlabel(\"clasificador\")\n",
        "plt.title(\"COMPARACIÓN CLASIFICADORES \")\n",
        "plt.show()\n",
        "\n"
      ],
      "execution_count": 84,
      "outputs": [
        {
          "output_type": "stream",
          "text": [
            "el puntaje maximo fue 100.0\n"
          ],
          "name": "stdout"
        },
        {
          "output_type": "display_data",
          "data": {
            "image/png": "[encoded data removed]",
            "text/plain": [
              "<Figure size 432x288 with 1 Axes>"
            ]
          },
          "metadata": {
            "tags": [],
            "needs_background": "light"
          }
        }
      ]
    }
  ]
}