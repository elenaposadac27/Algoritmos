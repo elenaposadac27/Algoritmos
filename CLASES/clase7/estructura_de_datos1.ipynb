{
  "nbformat": 4,
  "nbformat_minor": 0,
  "metadata": {
    "colab": {
      "name": "estructura_de_datos1.ipynb",
      "provenance": []
    },
    "kernelspec": {
      "name": "python3",
      "display_name": "Python 3"
    }
  },
  "cells": [
    {
      "cell_type": "code",
      "metadata": {
        "id": "B7_Ie-nP4KgB",
        "colab_type": "code",
        "colab": {}
      },
      "source": [
        ""
      ],
      "execution_count": null,
      "outputs": []
    },
    {
      "cell_type": "markdown",
      "metadata": {
        "id": "D7GZrF955LNQ",
        "colab_type": "text"
      },
      "source": [
        "#Estructura de datos\n",
        "Hoy veremos las diferentes estructuras de datos que analizamos el semestre anterior a forma de repaso.\n",
        "\n",
        "#Tuplas\n",
        "Las tuplas NO permite asignacion de nuevos valores pues son listas que no se pueden modificar."
      ]
    },
    {
      "cell_type": "code",
      "metadata": {
        "id": "NtUxhRsrXcoW",
        "colab_type": "code",
        "colab": {
          "base_uri": "https://localhost:8080/",
          "height": 51
        },
        "outputId": "83417057-dc52-4dc3-95e3-af98081767fd"
      },
      "source": [
        "lista_tupla = (1,2,3,4,12)\n",
        "print (lista_tupla)\n",
        "\n",
        "meses = (\"enero\", \"febrero\")\n",
        "dias = (\"lunes\", \"martes\")\n",
        "\n",
        "print(meses, dias)"
      ],
      "execution_count": 1,
      "outputs": [
        {
          "output_type": "stream",
          "text": [
            "(1, 2, 3, 4, 12)\n",
            "('enero', 'febrero') ('lunes', 'martes')\n"
          ],
          "name": "stdout"
        }
      ]
    },
    {
      "cell_type": "markdown",
      "metadata": {
        "id": "V-czVvwRXf39",
        "colab_type": "text"
      },
      "source": [
        "#Diccionarios\n"
      ]
    },
    {
      "cell_type": "code",
      "metadata": {
        "id": "C2Eb_yVjXp-r",
        "colab_type": "code",
        "colab": {
          "base_uri": "https://localhost:8080/",
          "height": 102
        },
        "outputId": "1e7b253d-0911-4c4c-8aa0-f1342713acfa"
      },
      "source": [
        "diccionario = {}\n",
        "diccionario = {\"Alumnos\":[\"Elena\", \"Marco\", \"Juanes\", \"Maria Camila\"], \"Profesores\":[\"Braiam\", \"Catalina\", \"Gustavo\", \"Daniel\"] }\n",
        "print (diccionario[\"Alumnos\"])\n",
        "print (diccionario[\"Profesores\"])\n",
        "print (diccionario.keys())\n",
        "print(diccionario.values())\n",
        "print (diccionario)"
      ],
      "execution_count": 2,
      "outputs": [
        {
          "output_type": "stream",
          "text": [
            "['Elena', 'Marco', 'Juanes', 'Maria Camila']\n",
            "['Braiam', 'Catalina', 'Gustavo', 'Daniel']\n",
            "dict_keys(['Alumnos', 'Profesores'])\n",
            "dict_values([['Elena', 'Marco', 'Juanes', 'Maria Camila'], ['Braiam', 'Catalina', 'Gustavo', 'Daniel']])\n",
            "{'Alumnos': ['Elena', 'Marco', 'Juanes', 'Maria Camila'], 'Profesores': ['Braiam', 'Catalina', 'Gustavo', 'Daniel']}\n"
          ],
          "name": "stdout"
        }
      ]
    },
    {
      "cell_type": "markdown",
      "metadata": {
        "id": "St_-kshhXuBG",
        "colab_type": "text"
      },
      "source": [
        "Por ejemplo para adicionar una nueva llave en el diccionario hacemos lo siguiente\n"
      ]
    },
    {
      "cell_type": "code",
      "metadata": {
        "id": "7bMdj1J2Xx4Z",
        "colab_type": "code",
        "colab": {
          "base_uri": "https://localhost:8080/",
          "height": 34
        },
        "outputId": "19cd62a2-a473-448b-e7a4-84bfd3a54147"
      },
      "source": [
        "diccionario[\"Directores\"] = [\"Carolina\",\"Tatiana\"]\n",
        "print(diccionario)\n"
      ],
      "execution_count": 3,
      "outputs": [
        {
          "output_type": "stream",
          "text": [
            "{'Alumnos': ['Elena', 'Marco', 'Juanes', 'Maria Camila'], 'Profesores': ['Braiam', 'Catalina', 'Gustavo', 'Daniel'], 'Directores': ['Carolina', 'Tatiana']}\n"
          ],
          "name": "stdout"
        }
      ]
    },
    {
      "cell_type": "markdown",
      "metadata": {
        "id": "fISkZ3VhX1o2",
        "colab_type": "text"
      },
      "source": [
        "#Listas\n"
      ]
    },
    {
      "cell_type": "code",
      "metadata": {
        "id": "OiaqxDQwX3hA",
        "colab_type": "code",
        "colab": {
          "base_uri": "https://localhost:8080/",
          "height": 34
        },
        "outputId": "50efbe6a-f30b-4cef-a6df-a94967522105"
      },
      "source": [
        "listas = [\"Directores\",2,1.78]\n",
        "print (listas)"
      ],
      "execution_count": 4,
      "outputs": [
        {
          "output_type": "stream",
          "text": [
            "['Directores', 2, 1.78]\n"
          ],
          "name": "stdout"
        }
      ]
    },
    {
      "cell_type": "markdown",
      "metadata": {
        "id": "ke3okc30X7O1",
        "colab_type": "text"
      },
      "source": [
        "#Variables Elementales\n"
      ]
    },
    {
      "cell_type": "code",
      "metadata": {
        "id": "rLl9qdibX-E0",
        "colab_type": "code",
        "colab": {
          "base_uri": "https://localhost:8080/",
          "height": 141
        },
        "outputId": "7364f6ec-5df3-41c0-bd37-d8083d3e909a"
      },
      "source": [
        "edad = -1\n",
        "estatura = 1.67\n",
        "nombre = \"Daniel\"\n",
        "boolean = True\n",
        "condicion = edad > 25 and estatura  > 1.40\n",
        "print (condicion)\n",
        "print (type(edad), type(estatura), type(nombre), type (condicion))\n",
        "\n",
        "if (condicion): \n",
        "  print(\"Esto satisface la condicion\")\n",
        "\n",
        "print (type (meses))\n",
        "print (type (diccionario))\n",
        "print (type (listas))\n",
        "\n",
        "nombre = nombre + \" Herrera \"\n",
        "while (edad < 0):\n",
        "  try:\n",
        "    edad = int (input(\"ingrese su edad : \"))\n",
        "  except ValueError:\n",
        "    print (\"Entrada no valida\")\n",
        "\n",
        "print (\"Adios\")"
      ],
      "execution_count": null,
      "outputs": [
        {
          "output_type": "stream",
          "text": [
            "False\n",
            "<class 'int'> <class 'float'> <class 'str'> <class 'bool'>\n",
            "<class 'tuple'>\n",
            "<class 'dict'>\n",
            "<class 'list'>\n"
          ],
          "name": "stdout"
        }
      ]
    }
  ]
}